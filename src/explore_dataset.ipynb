{
 "cells": [
  {
   "cell_type": "code",
   "execution_count": 1,
   "id": "4c59e116",
   "metadata": {},
   "outputs": [],
   "source": [
    "import pandas as pd\n",
    "import plotly.express as px\n",
    "import plotly.graph_objects as go\n",
    "from pymongo import MongoClient\n",
    "import os\n",
    "from dotenv import load_dotenv\n",
    "\n",
    "# Load env variables\n",
    "load_dotenv()\n",
    "mongo_uri = os.getenv(\"MONGO_URI\")\n",
    "db_name = os.getenv(\"MONGO_DB\")\n",
    "collection_name = os.getenv(\"MONGO_COLLECTION\")\n",
    "\n",
    "# Connect to MongoDB and load data\n",
    "client = MongoClient(mongo_uri)\n",
    "db = client[db_name]\n",
    "collection = db[collection_name]\n",
    "data = list(collection.find())\n",
    "\n",
    "# Convert to DataFrame\n",
    "df = pd.DataFrame(data)\n",
    "\n",
    "# Fix ObjectId and datetime fields\n",
    "if \"_id\" in df.columns:\n",
    "    df[\"_id\"] = df[\"_id\"].astype(str)\n",
    "df[\"lead_created_at\"] = pd.to_datetime(df[\"lead_created_at\"], errors=\"coerce\")"
   ]
  },
  {
   "cell_type": "code",
   "execution_count": 2,
   "id": "6a3c90d6",
   "metadata": {},
   "outputs": [
    {
     "data": {
      "text/html": [
       "<div>\n",
       "<style scoped>\n",
       "    .dataframe tbody tr th:only-of-type {\n",
       "        vertical-align: middle;\n",
       "    }\n",
       "\n",
       "    .dataframe tbody tr th {\n",
       "        vertical-align: top;\n",
       "    }\n",
       "\n",
       "    .dataframe thead th {\n",
       "        text-align: right;\n",
       "    }\n",
       "</style>\n",
       "<table border=\"1\" class=\"dataframe\">\n",
       "  <thead>\n",
       "    <tr style=\"text-align: right;\">\n",
       "      <th></th>\n",
       "      <th>_id</th>\n",
       "      <th>lead_id</th>\n",
       "      <th>email</th>\n",
       "      <th>first_name</th>\n",
       "      <th>last_name</th>\n",
       "      <th>created_at</th>\n",
       "      <th>input_channel</th>\n",
       "      <th>campaign_id</th>\n",
       "      <th>name</th>\n",
       "      <th>started_at</th>\n",
       "      <th>...</th>\n",
       "      <th>created_at_insc</th>\n",
       "      <th>amount</th>\n",
       "      <th>lead_created_at</th>\n",
       "      <th>inscription_created_at</th>\n",
       "      <th>cost_float</th>\n",
       "      <th>amount_float</th>\n",
       "      <th>conversion_time_days</th>\n",
       "      <th>converted</th>\n",
       "      <th>conversion_valid</th>\n",
       "      <th>conversion_anomaly_type</th>\n",
       "    </tr>\n",
       "  </thead>\n",
       "  <tbody>\n",
       "    <tr>\n",
       "      <th>0</th>\n",
       "      <td>6867947d37953a251ea5eea4</td>\n",
       "      <td>9e5068ff-c01f-4eab-bb38-214fb9d6b83d</td>\n",
       "      <td>ktytcomb0@sina.com.cn</td>\n",
       "      <td>Kristan</td>\n",
       "      <td></td>\n",
       "      <td>2025-05-28</td>\n",
       "      <td>WEB_ORGANIC</td>\n",
       "      <td>None</td>\n",
       "      <td>None</td>\n",
       "      <td>NaT</td>\n",
       "      <td>...</td>\n",
       "      <td>2025-04-26</td>\n",
       "      <td>1841,57 €</td>\n",
       "      <td>2025-05-28</td>\n",
       "      <td>2025-04-26</td>\n",
       "      <td>NaN</td>\n",
       "      <td>1841.57</td>\n",
       "      <td>-32.0</td>\n",
       "      <td>True</td>\n",
       "      <td>False</td>\n",
       "      <td>NEGATIVE_CONVERSION_TIME</td>\n",
       "    </tr>\n",
       "    <tr>\n",
       "      <th>1</th>\n",
       "      <td>6867947d37953a251ea5eea5</td>\n",
       "      <td>6e103a09-c824-45c4-a29a-4be38d7bb2eb</td>\n",
       "      <td>ggeldert1@skyrock.com</td>\n",
       "      <td>Galina</td>\n",
       "      <td>Geldert</td>\n",
       "      <td>2025-05-24</td>\n",
       "      <td>WEB_ORGANIC</td>\n",
       "      <td>None</td>\n",
       "      <td>None</td>\n",
       "      <td>NaT</td>\n",
       "      <td>...</td>\n",
       "      <td>2025-03-04</td>\n",
       "      <td>2460,79 €</td>\n",
       "      <td>2025-05-24</td>\n",
       "      <td>2025-03-04</td>\n",
       "      <td>NaN</td>\n",
       "      <td>2460.79</td>\n",
       "      <td>-81.0</td>\n",
       "      <td>True</td>\n",
       "      <td>False</td>\n",
       "      <td>NEGATIVE_CONVERSION_TIME</td>\n",
       "    </tr>\n",
       "    <tr>\n",
       "      <th>2</th>\n",
       "      <td>6867947d37953a251ea5eea6</td>\n",
       "      <td>95d9f881-6af6-47a3-a656-cba3135f7f2b</td>\n",
       "      <td>lmorales2@multiply.com</td>\n",
       "      <td>Lynn</td>\n",
       "      <td>Morales</td>\n",
       "      <td>2024-06-08</td>\n",
       "      <td>CAMPAIGN_003</td>\n",
       "      <td>CAMPAIGN_003</td>\n",
       "      <td>Selectividad_googleads</td>\n",
       "      <td>2024-11-03</td>\n",
       "      <td>...</td>\n",
       "      <td>2024-12-09</td>\n",
       "      <td>2755,03 €</td>\n",
       "      <td>2024-06-08</td>\n",
       "      <td>2024-12-09</td>\n",
       "      <td>2028.94</td>\n",
       "      <td>2755.03</td>\n",
       "      <td>184.0</td>\n",
       "      <td>True</td>\n",
       "      <td>True</td>\n",
       "      <td>NO_ANOMALY</td>\n",
       "    </tr>\n",
       "    <tr>\n",
       "      <th>3</th>\n",
       "      <td>6867947d37953a251ea5eea7</td>\n",
       "      <td>18036b65-9742-4973-9486-4102725bd84e</td>\n",
       "      <td>cflanaghan3@yolasite.com</td>\n",
       "      <td>Courtnay</td>\n",
       "      <td>Flanaghan</td>\n",
       "      <td>2024-09-09</td>\n",
       "      <td>CAMPAIGN_008</td>\n",
       "      <td>CAMPAIGN_008</td>\n",
       "      <td>fp_meta</td>\n",
       "      <td>2025-01-19</td>\n",
       "      <td>...</td>\n",
       "      <td>2024-08-03</td>\n",
       "      <td>953,44 €</td>\n",
       "      <td>2024-09-09</td>\n",
       "      <td>2024-08-03</td>\n",
       "      <td>2342.89</td>\n",
       "      <td>953.44</td>\n",
       "      <td>-37.0</td>\n",
       "      <td>True</td>\n",
       "      <td>False</td>\n",
       "      <td>NEGATIVE_CONVERSION_TIME</td>\n",
       "    </tr>\n",
       "    <tr>\n",
       "      <th>4</th>\n",
       "      <td>6867947d37953a251ea5eea8</td>\n",
       "      <td>b778e4f5-3ffb-42b4-be7c-79788c7f44a6</td>\n",
       "      <td>rpellingar4@google.com.hk</td>\n",
       "      <td>Rorie</td>\n",
       "      <td>Pellingar</td>\n",
       "      <td>2025-04-01</td>\n",
       "      <td>WEB_ORGANIC</td>\n",
       "      <td>None</td>\n",
       "      <td>None</td>\n",
       "      <td>NaT</td>\n",
       "      <td>...</td>\n",
       "      <td>2024-06-10</td>\n",
       "      <td>1165,67 €</td>\n",
       "      <td>2025-04-01</td>\n",
       "      <td>2024-06-10</td>\n",
       "      <td>NaN</td>\n",
       "      <td>1165.67</td>\n",
       "      <td>-295.0</td>\n",
       "      <td>True</td>\n",
       "      <td>False</td>\n",
       "      <td>NEGATIVE_CONVERSION_TIME</td>\n",
       "    </tr>\n",
       "  </tbody>\n",
       "</table>\n",
       "<p>5 rows × 24 columns</p>\n",
       "</div>"
      ],
      "text/plain": [
       "                        _id                               lead_id  \\\n",
       "0  6867947d37953a251ea5eea4  9e5068ff-c01f-4eab-bb38-214fb9d6b83d   \n",
       "1  6867947d37953a251ea5eea5  6e103a09-c824-45c4-a29a-4be38d7bb2eb   \n",
       "2  6867947d37953a251ea5eea6  95d9f881-6af6-47a3-a656-cba3135f7f2b   \n",
       "3  6867947d37953a251ea5eea7  18036b65-9742-4973-9486-4102725bd84e   \n",
       "4  6867947d37953a251ea5eea8  b778e4f5-3ffb-42b4-be7c-79788c7f44a6   \n",
       "\n",
       "                       email first_name  last_name created_at input_channel  \\\n",
       "0      ktytcomb0@sina.com.cn    Kristan            2025-05-28   WEB_ORGANIC   \n",
       "1      ggeldert1@skyrock.com     Galina    Geldert 2025-05-24   WEB_ORGANIC   \n",
       "2     lmorales2@multiply.com       Lynn    Morales 2024-06-08  CAMPAIGN_003   \n",
       "3   cflanaghan3@yolasite.com   Courtnay  Flanaghan 2024-09-09  CAMPAIGN_008   \n",
       "4  rpellingar4@google.com.hk      Rorie  Pellingar 2025-04-01   WEB_ORGANIC   \n",
       "\n",
       "    campaign_id                    name started_at  ... created_at_insc  \\\n",
       "0          None                    None        NaT  ...      2025-04-26   \n",
       "1          None                    None        NaT  ...      2025-03-04   \n",
       "2  CAMPAIGN_003  Selectividad_googleads 2024-11-03  ...      2024-12-09   \n",
       "3  CAMPAIGN_008                 fp_meta 2025-01-19  ...      2024-08-03   \n",
       "4          None                    None        NaT  ...      2024-06-10   \n",
       "\n",
       "      amount lead_created_at inscription_created_at cost_float amount_float  \\\n",
       "0  1841,57 €      2025-05-28             2025-04-26        NaN      1841.57   \n",
       "1  2460,79 €      2025-05-24             2025-03-04        NaN      2460.79   \n",
       "2  2755,03 €      2024-06-08             2024-12-09    2028.94      2755.03   \n",
       "3   953,44 €      2024-09-09             2024-08-03    2342.89       953.44   \n",
       "4  1165,67 €      2025-04-01             2024-06-10        NaN      1165.67   \n",
       "\n",
       "  conversion_time_days converted  conversion_valid   conversion_anomaly_type  \n",
       "0                -32.0      True             False  NEGATIVE_CONVERSION_TIME  \n",
       "1                -81.0      True             False  NEGATIVE_CONVERSION_TIME  \n",
       "2                184.0      True              True                NO_ANOMALY  \n",
       "3                -37.0      True             False  NEGATIVE_CONVERSION_TIME  \n",
       "4               -295.0      True             False  NEGATIVE_CONVERSION_TIME  \n",
       "\n",
       "[5 rows x 24 columns]"
      ]
     },
     "execution_count": 2,
     "metadata": {},
     "output_type": "execute_result"
    }
   ],
   "source": [
    "df.head()"
   ]
  },
  {
   "cell_type": "code",
   "execution_count": 3,
   "id": "ea18a16f",
   "metadata": {},
   "outputs": [],
   "source": [
    "# Select campaigns and date range\n",
    "selected_campaigns = df[\"name\"].dropna().unique().tolist()  # or manually define a subset\n",
    "start_date = df[\"lead_created_at\"].min()\n",
    "end_date = df[\"lead_created_at\"].max()\n",
    "\n",
    "# Filtered DataFrame\n",
    "filtered_df = df[\n",
    "    (df[\"name\"].isin(selected_campaigns)) &\n",
    "    (df[\"lead_created_at\"] >= pd.to_datetime(start_date)) &\n",
    "    (df[\"lead_created_at\"] <= pd.to_datetime(end_date))\n",
    "].copy()"
   ]
  },
  {
   "cell_type": "code",
   "execution_count": 4,
   "id": "631e6092",
   "metadata": {},
   "outputs": [
    {
     "name": "stdout",
     "output_type": "stream",
     "text": [
      "Total Leads: 728\n",
      "Valid Conversions: 41\n",
      "Invalid Conversions: 40\n"
     ]
    }
   ],
   "source": [
    "# Total Leads\n",
    "total_leads = len(filtered_df)\n",
    "\n",
    "# Valid conversions\n",
    "valid_conversions = filtered_df[\"conversion_valid\"].sum()\n",
    "\n",
    "# Invalid conversions\n",
    "invalid_df = filtered_df[(filtered_df[\"conversion_valid\"] == False) & (filtered_df[\"converted\"] == True)]\n",
    "invalid_conversions = len(invalid_df)\n",
    "\n",
    "print(\"Total Leads:\", total_leads)\n",
    "print(\"Valid Conversions:\", valid_conversions)\n",
    "print(\"Invalid Conversions:\", invalid_conversions)"
   ]
  },
  {
   "cell_type": "code",
   "execution_count": 5,
   "id": "448be569",
   "metadata": {},
   "outputs": [
    {
     "data": {
      "application/vnd.plotly.v1+json": {
       "config": {
        "plotlyServerURL": "https://plot.ly"
       },
       "data": [
        {
         "hovertemplate": "Campaña=%{x}<br>Convertidos=%{y}<extra></extra>",
         "legendgroup": "",
         "marker": {
          "color": "#636efa",
          "pattern": {
           "shape": ""
          }
         },
         "name": "",
         "orientation": "v",
         "showlegend": false,
         "textposition": "auto",
         "type": "bar",
         "x": [
          "Selectividad_Meta",
          "Selectividad_TikTok",
          "Selectividad_googleads",
          "fp_meta",
          "fp_tiktok",
          "opos_TikTok",
          "opos_googleads",
          "opos_meta"
         ],
         "xaxis": "x",
         "y": {
          "bdata": "DwMMCAkNCgs=",
          "dtype": "i1"
         },
         "yaxis": "y"
        }
       ],
       "layout": {
        "barmode": "relative",
        "legend": {
         "tracegroupgap": 0
        },
        "template": {
         "data": {
          "bar": [
           {
            "error_x": {
             "color": "#2a3f5f"
            },
            "error_y": {
             "color": "#2a3f5f"
            },
            "marker": {
             "line": {
              "color": "#E5ECF6",
              "width": 0.5
             },
             "pattern": {
              "fillmode": "overlay",
              "size": 10,
              "solidity": 0.2
             }
            },
            "type": "bar"
           }
          ],
          "barpolar": [
           {
            "marker": {
             "line": {
              "color": "#E5ECF6",
              "width": 0.5
             },
             "pattern": {
              "fillmode": "overlay",
              "size": 10,
              "solidity": 0.2
             }
            },
            "type": "barpolar"
           }
          ],
          "carpet": [
           {
            "aaxis": {
             "endlinecolor": "#2a3f5f",
             "gridcolor": "white",
             "linecolor": "white",
             "minorgridcolor": "white",
             "startlinecolor": "#2a3f5f"
            },
            "baxis": {
             "endlinecolor": "#2a3f5f",
             "gridcolor": "white",
             "linecolor": "white",
             "minorgridcolor": "white",
             "startlinecolor": "#2a3f5f"
            },
            "type": "carpet"
           }
          ],
          "choropleth": [
           {
            "colorbar": {
             "outlinewidth": 0,
             "ticks": ""
            },
            "type": "choropleth"
           }
          ],
          "contour": [
           {
            "colorbar": {
             "outlinewidth": 0,
             "ticks": ""
            },
            "colorscale": [
             [
              0,
              "#0d0887"
             ],
             [
              0.1111111111111111,
              "#46039f"
             ],
             [
              0.2222222222222222,
              "#7201a8"
             ],
             [
              0.3333333333333333,
              "#9c179e"
             ],
             [
              0.4444444444444444,
              "#bd3786"
             ],
             [
              0.5555555555555556,
              "#d8576b"
             ],
             [
              0.6666666666666666,
              "#ed7953"
             ],
             [
              0.7777777777777778,
              "#fb9f3a"
             ],
             [
              0.8888888888888888,
              "#fdca26"
             ],
             [
              1,
              "#f0f921"
             ]
            ],
            "type": "contour"
           }
          ],
          "contourcarpet": [
           {
            "colorbar": {
             "outlinewidth": 0,
             "ticks": ""
            },
            "type": "contourcarpet"
           }
          ],
          "heatmap": [
           {
            "colorbar": {
             "outlinewidth": 0,
             "ticks": ""
            },
            "colorscale": [
             [
              0,
              "#0d0887"
             ],
             [
              0.1111111111111111,
              "#46039f"
             ],
             [
              0.2222222222222222,
              "#7201a8"
             ],
             [
              0.3333333333333333,
              "#9c179e"
             ],
             [
              0.4444444444444444,
              "#bd3786"
             ],
             [
              0.5555555555555556,
              "#d8576b"
             ],
             [
              0.6666666666666666,
              "#ed7953"
             ],
             [
              0.7777777777777778,
              "#fb9f3a"
             ],
             [
              0.8888888888888888,
              "#fdca26"
             ],
             [
              1,
              "#f0f921"
             ]
            ],
            "type": "heatmap"
           }
          ],
          "histogram": [
           {
            "marker": {
             "pattern": {
              "fillmode": "overlay",
              "size": 10,
              "solidity": 0.2
             }
            },
            "type": "histogram"
           }
          ],
          "histogram2d": [
           {
            "colorbar": {
             "outlinewidth": 0,
             "ticks": ""
            },
            "colorscale": [
             [
              0,
              "#0d0887"
             ],
             [
              0.1111111111111111,
              "#46039f"
             ],
             [
              0.2222222222222222,
              "#7201a8"
             ],
             [
              0.3333333333333333,
              "#9c179e"
             ],
             [
              0.4444444444444444,
              "#bd3786"
             ],
             [
              0.5555555555555556,
              "#d8576b"
             ],
             [
              0.6666666666666666,
              "#ed7953"
             ],
             [
              0.7777777777777778,
              "#fb9f3a"
             ],
             [
              0.8888888888888888,
              "#fdca26"
             ],
             [
              1,
              "#f0f921"
             ]
            ],
            "type": "histogram2d"
           }
          ],
          "histogram2dcontour": [
           {
            "colorbar": {
             "outlinewidth": 0,
             "ticks": ""
            },
            "colorscale": [
             [
              0,
              "#0d0887"
             ],
             [
              0.1111111111111111,
              "#46039f"
             ],
             [
              0.2222222222222222,
              "#7201a8"
             ],
             [
              0.3333333333333333,
              "#9c179e"
             ],
             [
              0.4444444444444444,
              "#bd3786"
             ],
             [
              0.5555555555555556,
              "#d8576b"
             ],
             [
              0.6666666666666666,
              "#ed7953"
             ],
             [
              0.7777777777777778,
              "#fb9f3a"
             ],
             [
              0.8888888888888888,
              "#fdca26"
             ],
             [
              1,
              "#f0f921"
             ]
            ],
            "type": "histogram2dcontour"
           }
          ],
          "mesh3d": [
           {
            "colorbar": {
             "outlinewidth": 0,
             "ticks": ""
            },
            "type": "mesh3d"
           }
          ],
          "parcoords": [
           {
            "line": {
             "colorbar": {
              "outlinewidth": 0,
              "ticks": ""
             }
            },
            "type": "parcoords"
           }
          ],
          "pie": [
           {
            "automargin": true,
            "type": "pie"
           }
          ],
          "scatter": [
           {
            "fillpattern": {
             "fillmode": "overlay",
             "size": 10,
             "solidity": 0.2
            },
            "type": "scatter"
           }
          ],
          "scatter3d": [
           {
            "line": {
             "colorbar": {
              "outlinewidth": 0,
              "ticks": ""
             }
            },
            "marker": {
             "colorbar": {
              "outlinewidth": 0,
              "ticks": ""
             }
            },
            "type": "scatter3d"
           }
          ],
          "scattercarpet": [
           {
            "marker": {
             "colorbar": {
              "outlinewidth": 0,
              "ticks": ""
             }
            },
            "type": "scattercarpet"
           }
          ],
          "scattergeo": [
           {
            "marker": {
             "colorbar": {
              "outlinewidth": 0,
              "ticks": ""
             }
            },
            "type": "scattergeo"
           }
          ],
          "scattergl": [
           {
            "marker": {
             "colorbar": {
              "outlinewidth": 0,
              "ticks": ""
             }
            },
            "type": "scattergl"
           }
          ],
          "scattermap": [
           {
            "marker": {
             "colorbar": {
              "outlinewidth": 0,
              "ticks": ""
             }
            },
            "type": "scattermap"
           }
          ],
          "scattermapbox": [
           {
            "marker": {
             "colorbar": {
              "outlinewidth": 0,
              "ticks": ""
             }
            },
            "type": "scattermapbox"
           }
          ],
          "scatterpolar": [
           {
            "marker": {
             "colorbar": {
              "outlinewidth": 0,
              "ticks": ""
             }
            },
            "type": "scatterpolar"
           }
          ],
          "scatterpolargl": [
           {
            "marker": {
             "colorbar": {
              "outlinewidth": 0,
              "ticks": ""
             }
            },
            "type": "scatterpolargl"
           }
          ],
          "scatterternary": [
           {
            "marker": {
             "colorbar": {
              "outlinewidth": 0,
              "ticks": ""
             }
            },
            "type": "scatterternary"
           }
          ],
          "surface": [
           {
            "colorbar": {
             "outlinewidth": 0,
             "ticks": ""
            },
            "colorscale": [
             [
              0,
              "#0d0887"
             ],
             [
              0.1111111111111111,
              "#46039f"
             ],
             [
              0.2222222222222222,
              "#7201a8"
             ],
             [
              0.3333333333333333,
              "#9c179e"
             ],
             [
              0.4444444444444444,
              "#bd3786"
             ],
             [
              0.5555555555555556,
              "#d8576b"
             ],
             [
              0.6666666666666666,
              "#ed7953"
             ],
             [
              0.7777777777777778,
              "#fb9f3a"
             ],
             [
              0.8888888888888888,
              "#fdca26"
             ],
             [
              1,
              "#f0f921"
             ]
            ],
            "type": "surface"
           }
          ],
          "table": [
           {
            "cells": {
             "fill": {
              "color": "#EBF0F8"
             },
             "line": {
              "color": "white"
             }
            },
            "header": {
             "fill": {
              "color": "#C8D4E3"
             },
             "line": {
              "color": "white"
             }
            },
            "type": "table"
           }
          ]
         },
         "layout": {
          "annotationdefaults": {
           "arrowcolor": "#2a3f5f",
           "arrowhead": 0,
           "arrowwidth": 1
          },
          "autotypenumbers": "strict",
          "coloraxis": {
           "colorbar": {
            "outlinewidth": 0,
            "ticks": ""
           }
          },
          "colorscale": {
           "diverging": [
            [
             0,
             "#8e0152"
            ],
            [
             0.1,
             "#c51b7d"
            ],
            [
             0.2,
             "#de77ae"
            ],
            [
             0.3,
             "#f1b6da"
            ],
            [
             0.4,
             "#fde0ef"
            ],
            [
             0.5,
             "#f7f7f7"
            ],
            [
             0.6,
             "#e6f5d0"
            ],
            [
             0.7,
             "#b8e186"
            ],
            [
             0.8,
             "#7fbc41"
            ],
            [
             0.9,
             "#4d9221"
            ],
            [
             1,
             "#276419"
            ]
           ],
           "sequential": [
            [
             0,
             "#0d0887"
            ],
            [
             0.1111111111111111,
             "#46039f"
            ],
            [
             0.2222222222222222,
             "#7201a8"
            ],
            [
             0.3333333333333333,
             "#9c179e"
            ],
            [
             0.4444444444444444,
             "#bd3786"
            ],
            [
             0.5555555555555556,
             "#d8576b"
            ],
            [
             0.6666666666666666,
             "#ed7953"
            ],
            [
             0.7777777777777778,
             "#fb9f3a"
            ],
            [
             0.8888888888888888,
             "#fdca26"
            ],
            [
             1,
             "#f0f921"
            ]
           ],
           "sequentialminus": [
            [
             0,
             "#0d0887"
            ],
            [
             0.1111111111111111,
             "#46039f"
            ],
            [
             0.2222222222222222,
             "#7201a8"
            ],
            [
             0.3333333333333333,
             "#9c179e"
            ],
            [
             0.4444444444444444,
             "#bd3786"
            ],
            [
             0.5555555555555556,
             "#d8576b"
            ],
            [
             0.6666666666666666,
             "#ed7953"
            ],
            [
             0.7777777777777778,
             "#fb9f3a"
            ],
            [
             0.8888888888888888,
             "#fdca26"
            ],
            [
             1,
             "#f0f921"
            ]
           ]
          },
          "colorway": [
           "#636efa",
           "#EF553B",
           "#00cc96",
           "#ab63fa",
           "#FFA15A",
           "#19d3f3",
           "#FF6692",
           "#B6E880",
           "#FF97FF",
           "#FECB52"
          ],
          "font": {
           "color": "#2a3f5f"
          },
          "geo": {
           "bgcolor": "white",
           "lakecolor": "white",
           "landcolor": "#E5ECF6",
           "showlakes": true,
           "showland": true,
           "subunitcolor": "white"
          },
          "hoverlabel": {
           "align": "left"
          },
          "hovermode": "closest",
          "mapbox": {
           "style": "light"
          },
          "paper_bgcolor": "white",
          "plot_bgcolor": "#E5ECF6",
          "polar": {
           "angularaxis": {
            "gridcolor": "white",
            "linecolor": "white",
            "ticks": ""
           },
           "bgcolor": "#E5ECF6",
           "radialaxis": {
            "gridcolor": "white",
            "linecolor": "white",
            "ticks": ""
           }
          },
          "scene": {
           "xaxis": {
            "backgroundcolor": "#E5ECF6",
            "gridcolor": "white",
            "gridwidth": 2,
            "linecolor": "white",
            "showbackground": true,
            "ticks": "",
            "zerolinecolor": "white"
           },
           "yaxis": {
            "backgroundcolor": "#E5ECF6",
            "gridcolor": "white",
            "gridwidth": 2,
            "linecolor": "white",
            "showbackground": true,
            "ticks": "",
            "zerolinecolor": "white"
           },
           "zaxis": {
            "backgroundcolor": "#E5ECF6",
            "gridcolor": "white",
            "gridwidth": 2,
            "linecolor": "white",
            "showbackground": true,
            "ticks": "",
            "zerolinecolor": "white"
           }
          },
          "shapedefaults": {
           "line": {
            "color": "#2a3f5f"
           }
          },
          "ternary": {
           "aaxis": {
            "gridcolor": "white",
            "linecolor": "white",
            "ticks": ""
           },
           "baxis": {
            "gridcolor": "white",
            "linecolor": "white",
            "ticks": ""
           },
           "bgcolor": "#E5ECF6",
           "caxis": {
            "gridcolor": "white",
            "linecolor": "white",
            "ticks": ""
           }
          },
          "title": {
           "x": 0.05
          },
          "xaxis": {
           "automargin": true,
           "gridcolor": "white",
           "linecolor": "white",
           "ticks": "",
           "title": {
            "standoff": 15
           },
           "zerolinecolor": "white",
           "zerolinewidth": 2
          },
          "yaxis": {
           "automargin": true,
           "gridcolor": "white",
           "linecolor": "white",
           "ticks": "",
           "title": {
            "standoff": 15
           },
           "zerolinecolor": "white",
           "zerolinewidth": 2
          }
         }
        },
        "title": {
         "text": "Conversión por Campaña"
        },
        "xaxis": {
         "anchor": "y",
         "domain": [
          0,
          1
         ],
         "title": {
          "text": "Campaña"
         }
        },
        "yaxis": {
         "anchor": "x",
         "domain": [
          0,
          1
         ],
         "title": {
          "text": "Convertidos"
         }
        }
       }
      }
     },
     "metadata": {},
     "output_type": "display_data"
    }
   ],
   "source": [
    "conversion_by_campaign = filtered_df.groupby(\"name\")[\"converted\"].sum().reset_index()\n",
    "\n",
    "fig1 = px.bar(\n",
    "    conversion_by_campaign,\n",
    "    x=\"name\",\n",
    "    y=\"converted\",\n",
    "    title=\"Conversión por Campaña\",\n",
    "    labels={\"name\": \"Campaña\", \"converted\": \"Convertidos\"},\n",
    ")\n",
    "fig1.show()"
   ]
  },
  {
   "cell_type": "code",
   "execution_count": 6,
   "id": "18cf8aad",
   "metadata": {},
   "outputs": [
    {
     "data": {
      "application/vnd.plotly.v1+json": {
       "config": {
        "plotlyServerURL": "https://plot.ly"
       },
       "data": [
        {
         "alignmentgroup": "True",
         "hovertemplate": "Campaña=%{x}<br>Monto (€)=%{y}<extra></extra>",
         "legendgroup": "",
         "marker": {
          "color": "#636efa"
         },
         "name": "",
         "notched": false,
         "offsetgroup": "",
         "orientation": "v",
         "showlegend": false,
         "type": "box",
         "x": [
          "Selectividad_googleads",
          "fp_meta",
          "opos_googleads",
          "Selectividad_Meta",
          "Selectividad_TikTok",
          "fp_meta",
          "opos_meta",
          "Selectividad_Meta",
          "Selectividad_googleads",
          "fp_tiktok",
          "fp_meta",
          "opos_TikTok",
          "opos_googleads",
          "opos_googleads",
          "Selectividad_Meta",
          "fp_meta",
          "Selectividad_Meta",
          "fp_tiktok",
          "Selectividad_Meta",
          "fp_tiktok",
          "opos_meta",
          "fp_tiktok",
          "Selectividad_Meta",
          "fp_meta",
          "Selectividad_Meta",
          "opos_googleads",
          "Selectividad_TikTok",
          "Selectividad_Meta",
          "opos_TikTok",
          "Selectividad_googleads",
          "fp_tiktok",
          "Selectividad_Meta",
          "Selectividad_Meta",
          "fp_tiktok",
          "Selectividad_Meta",
          "opos_meta",
          "Selectividad_googleads",
          "Selectividad_googleads",
          "opos_TikTok",
          "opos_TikTok",
          "Selectividad_TikTok",
          "opos_TikTok",
          "Selectividad_googleads",
          "opos_meta",
          "opos_TikTok",
          "fp_meta",
          "Selectividad_googleads",
          "opos_meta",
          "opos_googleads",
          "fp_meta",
          "Selectividad_Meta",
          "opos_meta",
          "opos_googleads",
          "opos_meta",
          "opos_TikTok",
          "fp_tiktok",
          "opos_TikTok",
          "opos_googleads",
          "fp_meta",
          "Selectividad_Meta",
          "Selectividad_googleads",
          "opos_TikTok",
          "opos_meta",
          "Selectividad_googleads",
          "opos_googleads",
          "opos_meta",
          "opos_meta",
          "fp_tiktok",
          "Selectividad_Meta",
          "opos_meta",
          "opos_TikTok",
          "Selectividad_Meta",
          "Selectividad_googleads",
          "Selectividad_googleads",
          "opos_TikTok",
          "fp_tiktok",
          "opos_googleads",
          "opos_googleads",
          "opos_TikTok",
          "Selectividad_googleads",
          "opos_TikTok",
          "fp_tiktok",
          "Selectividad_Meta",
          "fp_meta",
          "opos_googleads",
          "Selectividad_TikTok",
          "fp_meta",
          "opos_meta",
          "opos_googleads",
          "Selectividad_googleads",
          "Selectividad_Meta",
          "Selectividad_Meta",
          "fp_tiktok",
          "opos_meta",
          "fp_tiktok",
          "Selectividad_Meta",
          "Selectividad_Meta",
          "Selectividad_googleads",
          "opos_googleads",
          "fp_tiktok",
          "fp_tiktok",
          "fp_tiktok",
          "opos_googleads",
          "Selectividad_googleads",
          "Selectividad_googleads",
          "Selectividad_TikTok",
          "opos_TikTok",
          "fp_tiktok",
          "fp_meta",
          "opos_googleads",
          "fp_tiktok",
          "Selectividad_Meta",
          "Selectividad_googleads",
          "fp_meta",
          "opos_TikTok",
          "Selectividad_TikTok",
          "fp_meta",
          "Selectividad_TikTok",
          "opos_meta",
          "opos_meta",
          "opos_meta",
          "opos_meta",
          "opos_meta",
          "fp_tiktok",
          "Selectividad_googleads",
          "Selectividad_TikTok",
          "Selectividad_TikTok",
          "Selectividad_TikTok",
          "Selectividad_Meta",
          "Selectividad_TikTok",
          "opos_meta",
          "opos_meta",
          "fp_tiktok",
          "opos_meta",
          "fp_tiktok",
          "fp_meta",
          "opos_TikTok",
          "opos_meta",
          "fp_tiktok",
          "Selectividad_googleads",
          "Selectividad_googleads",
          "fp_meta",
          "opos_googleads",
          "fp_meta",
          "fp_meta",
          "Selectividad_googleads",
          "Selectividad_TikTok",
          "opos_TikTok",
          "Selectividad_TikTok",
          "opos_TikTok",
          "fp_tiktok",
          "fp_meta",
          "fp_meta",
          "Selectividad_googleads",
          "Selectividad_TikTok",
          "opos_meta",
          "opos_googleads",
          "opos_meta",
          "Selectividad_TikTok",
          "opos_googleads",
          "Selectividad_TikTok",
          "fp_tiktok",
          "opos_meta",
          "opos_TikTok",
          "opos_TikTok",
          "fp_meta",
          "opos_TikTok",
          "Selectividad_googleads",
          "Selectividad_TikTok",
          "opos_meta",
          "Selectividad_Meta",
          "opos_TikTok",
          "Selectividad_TikTok",
          "Selectividad_Meta",
          "fp_tiktok",
          "Selectividad_TikTok",
          "Selectividad_TikTok",
          "opos_googleads",
          "Selectividad_Meta",
          "Selectividad_googleads",
          "opos_meta",
          "opos_meta",
          "Selectividad_TikTok",
          "fp_meta",
          "Selectividad_googleads",
          "opos_meta",
          "Selectividad_TikTok",
          "fp_tiktok",
          "opos_googleads",
          "Selectividad_TikTok",
          "Selectividad_TikTok",
          "fp_tiktok",
          "opos_meta",
          "opos_meta",
          "fp_meta",
          "opos_googleads",
          "Selectividad_Meta",
          "opos_TikTok",
          "fp_tiktok",
          "fp_meta",
          "opos_meta",
          "opos_TikTok",
          "opos_googleads",
          "Selectividad_googleads",
          "fp_meta",
          "fp_tiktok",
          "opos_googleads",
          "opos_meta",
          "fp_tiktok",
          "Selectividad_googleads",
          "Selectividad_Meta",
          "opos_googleads",
          "Selectividad_Meta",
          "fp_tiktok",
          "fp_tiktok",
          "opos_TikTok",
          "Selectividad_Meta",
          "opos_googleads",
          "fp_tiktok",
          "opos_googleads",
          "Selectividad_TikTok",
          "opos_googleads",
          "opos_TikTok",
          "fp_meta",
          "fp_meta",
          "opos_meta",
          "opos_googleads",
          "Selectividad_Meta",
          "opos_meta",
          "fp_meta",
          "Selectividad_TikTok",
          "opos_googleads",
          "fp_meta",
          "fp_tiktok",
          "Selectividad_Meta",
          "opos_TikTok",
          "Selectividad_googleads",
          "opos_TikTok",
          "opos_meta",
          "fp_tiktok",
          "fp_meta",
          "fp_tiktok",
          "fp_tiktok",
          "fp_tiktok",
          "opos_TikTok",
          "opos_meta",
          "opos_TikTok",
          "opos_googleads",
          "Selectividad_TikTok",
          "Selectividad_Meta",
          "opos_meta",
          "Selectividad_googleads",
          "Selectividad_TikTok",
          "opos_meta",
          "opos_googleads",
          "opos_googleads",
          "fp_tiktok",
          "fp_meta",
          "fp_tiktok",
          "opos_TikTok",
          "opos_TikTok",
          "Selectividad_googleads",
          "fp_meta",
          "Selectividad_googleads",
          "fp_meta",
          "fp_tiktok",
          "fp_meta",
          "Selectividad_TikTok",
          "Selectividad_Meta",
          "Selectividad_Meta",
          "Selectividad_Meta",
          "opos_googleads",
          "opos_TikTok",
          "Selectividad_TikTok",
          "fp_meta",
          "opos_meta",
          "opos_meta",
          "opos_TikTok",
          "opos_meta",
          "fp_tiktok",
          "Selectividad_googleads",
          "fp_tiktok",
          "opos_TikTok",
          "Selectividad_TikTok",
          "opos_meta",
          "Selectividad_googleads",
          "fp_tiktok",
          "Selectividad_Meta",
          "Selectividad_googleads",
          "fp_tiktok",
          "opos_googleads",
          "opos_TikTok",
          "Selectividad_Meta",
          "Selectividad_googleads",
          "Selectividad_Meta",
          "Selectividad_googleads",
          "Selectividad_googleads",
          "Selectividad_TikTok",
          "opos_TikTok",
          "fp_tiktok",
          "Selectividad_TikTok",
          "Selectividad_TikTok",
          "opos_googleads",
          "opos_googleads",
          "Selectividad_Meta",
          "fp_tiktok",
          "fp_tiktok",
          "opos_googleads",
          "fp_tiktok",
          "fp_tiktok",
          "Selectividad_googleads",
          "opos_googleads",
          "fp_tiktok",
          "Selectividad_TikTok",
          "opos_googleads",
          "Selectividad_TikTok",
          "Selectividad_TikTok",
          "opos_TikTok",
          "Selectividad_googleads",
          "Selectividad_googleads",
          "opos_googleads",
          "opos_TikTok",
          "fp_meta",
          "fp_meta",
          "opos_meta",
          "opos_TikTok",
          "opos_meta",
          "Selectividad_googleads",
          "opos_TikTok",
          "Selectividad_Meta",
          "opos_TikTok",
          "Selectividad_TikTok",
          "Selectividad_googleads",
          "Selectividad_TikTok",
          "opos_googleads",
          "Selectividad_TikTok",
          "opos_meta",
          "opos_TikTok",
          "fp_tiktok",
          "Selectividad_googleads",
          "Selectividad_Meta",
          "opos_meta",
          "Selectividad_googleads",
          "opos_meta",
          "opos_TikTok",
          "opos_TikTok",
          "Selectividad_Meta",
          "opos_googleads",
          "opos_TikTok",
          "fp_tiktok",
          "opos_googleads",
          "fp_tiktok",
          "fp_tiktok",
          "Selectividad_googleads",
          "fp_meta",
          "Selectividad_TikTok",
          "Selectividad_Meta",
          "fp_meta",
          "opos_googleads",
          "opos_meta",
          "opos_googleads",
          "Selectividad_Meta",
          "opos_TikTok",
          "Selectividad_Meta",
          "Selectividad_Meta",
          "fp_tiktok",
          "opos_TikTok",
          "opos_meta",
          "Selectividad_TikTok",
          "fp_tiktok",
          "Selectividad_Meta",
          "fp_tiktok",
          "opos_TikTok",
          "opos_TikTok",
          "opos_googleads",
          "fp_tiktok",
          "Selectividad_googleads",
          "Selectividad_googleads",
          "fp_meta",
          "fp_tiktok",
          "fp_tiktok",
          "fp_meta",
          "opos_TikTok",
          "opos_meta",
          "opos_googleads",
          "Selectividad_googleads",
          "opos_TikTok",
          "opos_meta",
          "Selectividad_Meta",
          "fp_meta",
          "opos_TikTok",
          "Selectividad_TikTok",
          "opos_googleads",
          "fp_tiktok",
          "Selectividad_googleads",
          "Selectividad_Meta",
          "fp_meta",
          "Selectividad_googleads",
          "opos_googleads",
          "opos_meta",
          "Selectividad_Meta",
          "opos_meta",
          "opos_TikTok",
          "Selectividad_TikTok",
          "opos_TikTok",
          "Selectividad_Meta",
          "Selectividad_TikTok",
          "opos_googleads",
          "opos_googleads",
          "opos_googleads",
          "fp_tiktok",
          "opos_googleads",
          "opos_meta",
          "opos_meta",
          "Selectividad_Meta",
          "Selectividad_TikTok",
          "opos_TikTok",
          "Selectividad_TikTok",
          "fp_tiktok",
          "opos_meta",
          "Selectividad_Meta",
          "opos_meta",
          "Selectividad_TikTok",
          "fp_meta",
          "Selectividad_Meta",
          "opos_TikTok",
          "Selectividad_TikTok",
          "fp_tiktok",
          "Selectividad_Meta",
          "Selectividad_TikTok",
          "Selectividad_TikTok",
          "fp_meta",
          "fp_meta",
          "fp_meta",
          "Selectividad_TikTok",
          "Selectividad_googleads",
          "Selectividad_googleads",
          "opos_googleads",
          "opos_TikTok",
          "opos_meta",
          "opos_meta",
          "fp_tiktok",
          "Selectividad_Meta",
          "opos_TikTok",
          "Selectividad_Meta",
          "fp_meta",
          "Selectividad_TikTok",
          "opos_meta",
          "Selectividad_Meta",
          "Selectividad_googleads",
          "Selectividad_TikTok",
          "fp_meta",
          "opos_TikTok",
          "opos_googleads",
          "fp_meta",
          "Selectividad_TikTok",
          "Selectividad_Meta",
          "opos_googleads",
          "Selectividad_googleads",
          "opos_meta",
          "fp_tiktok",
          "Selectividad_googleads",
          "opos_googleads",
          "opos_TikTok",
          "opos_meta",
          "opos_TikTok",
          "fp_tiktok",
          "Selectividad_TikTok",
          "fp_tiktok",
          "Selectividad_googleads",
          "opos_TikTok",
          "opos_TikTok",
          "fp_meta",
          "Selectividad_Meta",
          "Selectividad_Meta",
          "opos_meta",
          "fp_tiktok",
          "opos_TikTok",
          "opos_TikTok",
          "fp_tiktok",
          "opos_meta",
          "opos_TikTok",
          "Selectividad_googleads",
          "Selectividad_TikTok",
          "Selectividad_Meta",
          "Selectividad_googleads",
          "Selectividad_TikTok",
          "Selectividad_Meta",
          "Selectividad_googleads",
          "fp_meta",
          "fp_tiktok",
          "opos_googleads",
          "Selectividad_TikTok",
          "Selectividad_Meta",
          "Selectividad_Meta",
          "Selectividad_googleads",
          "Selectividad_Meta",
          "Selectividad_Meta",
          "Selectividad_googleads",
          "Selectividad_TikTok",
          "fp_meta",
          "opos_TikTok",
          "fp_tiktok",
          "fp_tiktok",
          "Selectividad_Meta",
          "Selectividad_TikTok",
          "Selectividad_TikTok",
          "opos_googleads",
          "opos_meta",
          "Selectividad_googleads",
          "Selectividad_TikTok",
          "Selectividad_Meta",
          "fp_meta",
          "Selectividad_Meta",
          "Selectividad_Meta",
          "fp_meta",
          "opos_TikTok",
          "fp_tiktok",
          "Selectividad_Meta",
          "opos_TikTok",
          "opos_googleads",
          "Selectividad_Meta",
          "Selectividad_TikTok",
          "Selectividad_googleads",
          "Selectividad_googleads",
          "opos_TikTok",
          "Selectividad_Meta",
          "opos_TikTok",
          "fp_tiktok",
          "opos_TikTok",
          "fp_tiktok",
          "opos_meta",
          "Selectividad_Meta",
          "Selectividad_googleads",
          "fp_tiktok",
          "opos_googleads",
          "fp_meta",
          "opos_meta",
          "Selectividad_googleads",
          "Selectividad_googleads",
          "opos_TikTok",
          "fp_tiktok",
          "opos_meta",
          "Selectividad_Meta",
          "opos_TikTok",
          "opos_TikTok",
          "opos_googleads",
          "fp_meta",
          "fp_tiktok",
          "opos_TikTok",
          "opos_TikTok",
          "opos_TikTok",
          "fp_meta",
          "opos_meta",
          "Selectividad_googleads",
          "Selectividad_Meta",
          "Selectividad_Meta",
          "Selectividad_Meta",
          "fp_tiktok",
          "Selectividad_googleads",
          "opos_meta",
          "opos_googleads",
          "Selectividad_TikTok",
          "Selectividad_Meta",
          "Selectividad_googleads",
          "Selectividad_googleads",
          "opos_TikTok",
          "fp_meta",
          "Selectividad_googleads",
          "Selectividad_TikTok",
          "Selectividad_Meta",
          "opos_googleads",
          "Selectividad_googleads",
          "fp_meta",
          "opos_TikTok",
          "fp_meta",
          "Selectividad_TikTok",
          "Selectividad_Meta",
          "Selectividad_googleads",
          "opos_meta",
          "fp_meta",
          "fp_meta",
          "fp_meta",
          "opos_meta",
          "fp_tiktok",
          "opos_TikTok",
          "Selectividad_Meta",
          "opos_TikTok",
          "fp_meta",
          "opos_TikTok",
          "Selectividad_TikTok",
          "opos_TikTok",
          "Selectividad_Meta",
          "opos_googleads",
          "Selectividad_Meta",
          "fp_meta",
          "fp_meta",
          "opos_meta",
          "opos_TikTok",
          "Selectividad_TikTok",
          "opos_meta",
          "opos_TikTok",
          "Selectividad_googleads",
          "opos_TikTok",
          "opos_meta",
          "opos_meta",
          "Selectividad_googleads",
          "opos_meta",
          "opos_meta",
          "Selectividad_googleads",
          "Selectividad_googleads",
          "Selectividad_TikTok",
          "opos_googleads",
          "fp_meta",
          "opos_TikTok",
          "fp_tiktok",
          "Selectividad_Meta",
          "Selectividad_googleads",
          "Selectividad_Meta",
          "opos_googleads",
          "opos_googleads",
          "Selectividad_googleads",
          "opos_TikTok",
          "fp_meta",
          "opos_googleads",
          "opos_meta",
          "Selectividad_googleads",
          "fp_tiktok",
          "Selectividad_googleads",
          "Selectividad_googleads",
          "Selectividad_TikTok",
          "opos_googleads",
          "fp_tiktok",
          "Selectividad_TikTok",
          "fp_meta",
          "fp_tiktok",
          "Selectividad_googleads",
          "fp_meta",
          "fp_tiktok",
          "fp_tiktok",
          "opos_TikTok",
          "fp_meta",
          "opos_googleads",
          "Selectividad_Meta",
          "Selectividad_Meta",
          "Selectividad_TikTok",
          "opos_meta",
          "fp_tiktok",
          "opos_googleads",
          "opos_meta",
          "fp_meta",
          "Selectividad_Meta",
          "Selectividad_TikTok",
          "opos_TikTok",
          "fp_tiktok",
          "opos_TikTok",
          "fp_tiktok",
          "opos_googleads",
          "Selectividad_TikTok",
          "fp_tiktok",
          "Selectividad_TikTok",
          "opos_meta",
          "opos_TikTok",
          "opos_googleads",
          "fp_tiktok",
          "opos_meta",
          "opos_googleads",
          "Selectividad_Meta",
          "Selectividad_googleads",
          "Selectividad_TikTok",
          "fp_meta",
          "Selectividad_googleads",
          "opos_TikTok",
          "fp_meta",
          "fp_tiktok",
          "opos_googleads",
          "Selectividad_googleads",
          "Selectividad_Meta",
          "fp_meta",
          "opos_TikTok",
          "fp_tiktok",
          "opos_TikTok",
          "opos_meta",
          "Selectividad_googleads",
          "Selectividad_TikTok",
          "fp_meta",
          "opos_TikTok",
          "fp_meta",
          "opos_googleads",
          "Selectividad_TikTok",
          "opos_googleads",
          "opos_meta",
          "fp_meta",
          "Selectividad_TikTok",
          "opos_meta",
          "fp_meta",
          "fp_tiktok",
          "Selectividad_Meta",
          "Selectividad_TikTok",
          "opos_googleads",
          "fp_meta",
          "Selectividad_googleads",
          "opos_TikTok",
          "Selectividad_Meta",
          "Selectividad_TikTok",
          "fp_meta",
          "fp_tiktok",
          "fp_tiktok",
          "Selectividad_googleads",
          "Selectividad_googleads",
          "Selectividad_Meta",
          "fp_meta",
          "Selectividad_googleads",
          "fp_tiktok",
          "Selectividad_googleads",
          "Selectividad_googleads",
          "fp_tiktok",
          "Selectividad_TikTok",
          "opos_TikTok",
          "Selectividad_Meta",
          "fp_tiktok",
          "Selectividad_googleads",
          "opos_meta",
          "opos_meta",
          "Selectividad_TikTok",
          "fp_meta",
          "Selectividad_TikTok",
          "opos_meta"
         ],
         "x0": " ",
         "xaxis": "x",
         "y": {
          "bdata": "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",
          "dtype": "f8"
         },
         "y0": " ",
         "yaxis": "y"
        }
       ],
       "layout": {
        "boxmode": "group",
        "legend": {
         "tracegroupgap": 0
        },
        "template": {
         "data": {
          "bar": [
           {
            "error_x": {
             "color": "#2a3f5f"
            },
            "error_y": {
             "color": "#2a3f5f"
            },
            "marker": {
             "line": {
              "color": "#E5ECF6",
              "width": 0.5
             },
             "pattern": {
              "fillmode": "overlay",
              "size": 10,
              "solidity": 0.2
             }
            },
            "type": "bar"
           }
          ],
          "barpolar": [
           {
            "marker": {
             "line": {
              "color": "#E5ECF6",
              "width": 0.5
             },
             "pattern": {
              "fillmode": "overlay",
              "size": 10,
              "solidity": 0.2
             }
            },
            "type": "barpolar"
           }
          ],
          "carpet": [
           {
            "aaxis": {
             "endlinecolor": "#2a3f5f",
             "gridcolor": "white",
             "linecolor": "white",
             "minorgridcolor": "white",
             "startlinecolor": "#2a3f5f"
            },
            "baxis": {
             "endlinecolor": "#2a3f5f",
             "gridcolor": "white",
             "linecolor": "white",
             "minorgridcolor": "white",
             "startlinecolor": "#2a3f5f"
            },
            "type": "carpet"
           }
          ],
          "choropleth": [
           {
            "colorbar": {
             "outlinewidth": 0,
             "ticks": ""
            },
            "type": "choropleth"
           }
          ],
          "contour": [
           {
            "colorbar": {
             "outlinewidth": 0,
             "ticks": ""
            },
            "colorscale": [
             [
              0,
              "#0d0887"
             ],
             [
              0.1111111111111111,
              "#46039f"
             ],
             [
              0.2222222222222222,
              "#7201a8"
             ],
             [
              0.3333333333333333,
              "#9c179e"
             ],
             [
              0.4444444444444444,
              "#bd3786"
             ],
             [
              0.5555555555555556,
              "#d8576b"
             ],
             [
              0.6666666666666666,
              "#ed7953"
             ],
             [
              0.7777777777777778,
              "#fb9f3a"
             ],
             [
              0.8888888888888888,
              "#fdca26"
             ],
             [
              1,
              "#f0f921"
             ]
            ],
            "type": "contour"
           }
          ],
          "contourcarpet": [
           {
            "colorbar": {
             "outlinewidth": 0,
             "ticks": ""
            },
            "type": "contourcarpet"
           }
          ],
          "heatmap": [
           {
            "colorbar": {
             "outlinewidth": 0,
             "ticks": ""
            },
            "colorscale": [
             [
              0,
              "#0d0887"
             ],
             [
              0.1111111111111111,
              "#46039f"
             ],
             [
              0.2222222222222222,
              "#7201a8"
             ],
             [
              0.3333333333333333,
              "#9c179e"
             ],
             [
              0.4444444444444444,
              "#bd3786"
             ],
             [
              0.5555555555555556,
              "#d8576b"
             ],
             [
              0.6666666666666666,
              "#ed7953"
             ],
             [
              0.7777777777777778,
              "#fb9f3a"
             ],
             [
              0.8888888888888888,
              "#fdca26"
             ],
             [
              1,
              "#f0f921"
             ]
            ],
            "type": "heatmap"
           }
          ],
          "histogram": [
           {
            "marker": {
             "pattern": {
              "fillmode": "overlay",
              "size": 10,
              "solidity": 0.2
             }
            },
            "type": "histogram"
           }
          ],
          "histogram2d": [
           {
            "colorbar": {
             "outlinewidth": 0,
             "ticks": ""
            },
            "colorscale": [
             [
              0,
              "#0d0887"
             ],
             [
              0.1111111111111111,
              "#46039f"
             ],
             [
              0.2222222222222222,
              "#7201a8"
             ],
             [
              0.3333333333333333,
              "#9c179e"
             ],
             [
              0.4444444444444444,
              "#bd3786"
             ],
             [
              0.5555555555555556,
              "#d8576b"
             ],
             [
              0.6666666666666666,
              "#ed7953"
             ],
             [
              0.7777777777777778,
              "#fb9f3a"
             ],
             [
              0.8888888888888888,
              "#fdca26"
             ],
             [
              1,
              "#f0f921"
             ]
            ],
            "type": "histogram2d"
           }
          ],
          "histogram2dcontour": [
           {
            "colorbar": {
             "outlinewidth": 0,
             "ticks": ""
            },
            "colorscale": [
             [
              0,
              "#0d0887"
             ],
             [
              0.1111111111111111,
              "#46039f"
             ],
             [
              0.2222222222222222,
              "#7201a8"
             ],
             [
              0.3333333333333333,
              "#9c179e"
             ],
             [
              0.4444444444444444,
              "#bd3786"
             ],
             [
              0.5555555555555556,
              "#d8576b"
             ],
             [
              0.6666666666666666,
              "#ed7953"
             ],
             [
              0.7777777777777778,
              "#fb9f3a"
             ],
             [
              0.8888888888888888,
              "#fdca26"
             ],
             [
              1,
              "#f0f921"
             ]
            ],
            "type": "histogram2dcontour"
           }
          ],
          "mesh3d": [
           {
            "colorbar": {
             "outlinewidth": 0,
             "ticks": ""
            },
            "type": "mesh3d"
           }
          ],
          "parcoords": [
           {
            "line": {
             "colorbar": {
              "outlinewidth": 0,
              "ticks": ""
             }
            },
            "type": "parcoords"
           }
          ],
          "pie": [
           {
            "automargin": true,
            "type": "pie"
           }
          ],
          "scatter": [
           {
            "fillpattern": {
             "fillmode": "overlay",
             "size": 10,
             "solidity": 0.2
            },
            "type": "scatter"
           }
          ],
          "scatter3d": [
           {
            "line": {
             "colorbar": {
              "outlinewidth": 0,
              "ticks": ""
             }
            },
            "marker": {
             "colorbar": {
              "outlinewidth": 0,
              "ticks": ""
             }
            },
            "type": "scatter3d"
           }
          ],
          "scattercarpet": [
           {
            "marker": {
             "colorbar": {
              "outlinewidth": 0,
              "ticks": ""
             }
            },
            "type": "scattercarpet"
           }
          ],
          "scattergeo": [
           {
            "marker": {
             "colorbar": {
              "outlinewidth": 0,
              "ticks": ""
             }
            },
            "type": "scattergeo"
           }
          ],
          "scattergl": [
           {
            "marker": {
             "colorbar": {
              "outlinewidth": 0,
              "ticks": ""
             }
            },
            "type": "scattergl"
           }
          ],
          "scattermap": [
           {
            "marker": {
             "colorbar": {
              "outlinewidth": 0,
              "ticks": ""
             }
            },
            "type": "scattermap"
           }
          ],
          "scattermapbox": [
           {
            "marker": {
             "colorbar": {
              "outlinewidth": 0,
              "ticks": ""
             }
            },
            "type": "scattermapbox"
           }
          ],
          "scatterpolar": [
           {
            "marker": {
             "colorbar": {
              "outlinewidth": 0,
              "ticks": ""
             }
            },
            "type": "scatterpolar"
           }
          ],
          "scatterpolargl": [
           {
            "marker": {
             "colorbar": {
              "outlinewidth": 0,
              "ticks": ""
             }
            },
            "type": "scatterpolargl"
           }
          ],
          "scatterternary": [
           {
            "marker": {
             "colorbar": {
              "outlinewidth": 0,
              "ticks": ""
             }
            },
            "type": "scatterternary"
           }
          ],
          "surface": [
           {
            "colorbar": {
             "outlinewidth": 0,
             "ticks": ""
            },
            "colorscale": [
             [
              0,
              "#0d0887"
             ],
             [
              0.1111111111111111,
              "#46039f"
             ],
             [
              0.2222222222222222,
              "#7201a8"
             ],
             [
              0.3333333333333333,
              "#9c179e"
             ],
             [
              0.4444444444444444,
              "#bd3786"
             ],
             [
              0.5555555555555556,
              "#d8576b"
             ],
             [
              0.6666666666666666,
              "#ed7953"
             ],
             [
              0.7777777777777778,
              "#fb9f3a"
             ],
             [
              0.8888888888888888,
              "#fdca26"
             ],
             [
              1,
              "#f0f921"
             ]
            ],
            "type": "surface"
           }
          ],
          "table": [
           {
            "cells": {
             "fill": {
              "color": "#EBF0F8"
             },
             "line": {
              "color": "white"
             }
            },
            "header": {
             "fill": {
              "color": "#C8D4E3"
             },
             "line": {
              "color": "white"
             }
            },
            "type": "table"
           }
          ]
         },
         "layout": {
          "annotationdefaults": {
           "arrowcolor": "#2a3f5f",
           "arrowhead": 0,
           "arrowwidth": 1
          },
          "autotypenumbers": "strict",
          "coloraxis": {
           "colorbar": {
            "outlinewidth": 0,
            "ticks": ""
           }
          },
          "colorscale": {
           "diverging": [
            [
             0,
             "#8e0152"
            ],
            [
             0.1,
             "#c51b7d"
            ],
            [
             0.2,
             "#de77ae"
            ],
            [
             0.3,
             "#f1b6da"
            ],
            [
             0.4,
             "#fde0ef"
            ],
            [
             0.5,
             "#f7f7f7"
            ],
            [
             0.6,
             "#e6f5d0"
            ],
            [
             0.7,
             "#b8e186"
            ],
            [
             0.8,
             "#7fbc41"
            ],
            [
             0.9,
             "#4d9221"
            ],
            [
             1,
             "#276419"
            ]
           ],
           "sequential": [
            [
             0,
             "#0d0887"
            ],
            [
             0.1111111111111111,
             "#46039f"
            ],
            [
             0.2222222222222222,
             "#7201a8"
            ],
            [
             0.3333333333333333,
             "#9c179e"
            ],
            [
             0.4444444444444444,
             "#bd3786"
            ],
            [
             0.5555555555555556,
             "#d8576b"
            ],
            [
             0.6666666666666666,
             "#ed7953"
            ],
            [
             0.7777777777777778,
             "#fb9f3a"
            ],
            [
             0.8888888888888888,
             "#fdca26"
            ],
            [
             1,
             "#f0f921"
            ]
           ],
           "sequentialminus": [
            [
             0,
             "#0d0887"
            ],
            [
             0.1111111111111111,
             "#46039f"
            ],
            [
             0.2222222222222222,
             "#7201a8"
            ],
            [
             0.3333333333333333,
             "#9c179e"
            ],
            [
             0.4444444444444444,
             "#bd3786"
            ],
            [
             0.5555555555555556,
             "#d8576b"
            ],
            [
             0.6666666666666666,
             "#ed7953"
            ],
            [
             0.7777777777777778,
             "#fb9f3a"
            ],
            [
             0.8888888888888888,
             "#fdca26"
            ],
            [
             1,
             "#f0f921"
            ]
           ]
          },
          "colorway": [
           "#636efa",
           "#EF553B",
           "#00cc96",
           "#ab63fa",
           "#FFA15A",
           "#19d3f3",
           "#FF6692",
           "#B6E880",
           "#FF97FF",
           "#FECB52"
          ],
          "font": {
           "color": "#2a3f5f"
          },
          "geo": {
           "bgcolor": "white",
           "lakecolor": "white",
           "landcolor": "#E5ECF6",
           "showlakes": true,
           "showland": true,
           "subunitcolor": "white"
          },
          "hoverlabel": {
           "align": "left"
          },
          "hovermode": "closest",
          "mapbox": {
           "style": "light"
          },
          "paper_bgcolor": "white",
          "plot_bgcolor": "#E5ECF6",
          "polar": {
           "angularaxis": {
            "gridcolor": "white",
            "linecolor": "white",
            "ticks": ""
           },
           "bgcolor": "#E5ECF6",
           "radialaxis": {
            "gridcolor": "white",
            "linecolor": "white",
            "ticks": ""
           }
          },
          "scene": {
           "xaxis": {
            "backgroundcolor": "#E5ECF6",
            "gridcolor": "white",
            "gridwidth": 2,
            "linecolor": "white",
            "showbackground": true,
            "ticks": "",
            "zerolinecolor": "white"
           },
           "yaxis": {
            "backgroundcolor": "#E5ECF6",
            "gridcolor": "white",
            "gridwidth": 2,
            "linecolor": "white",
            "showbackground": true,
            "ticks": "",
            "zerolinecolor": "white"
           },
           "zaxis": {
            "backgroundcolor": "#E5ECF6",
            "gridcolor": "white",
            "gridwidth": 2,
            "linecolor": "white",
            "showbackground": true,
            "ticks": "",
            "zerolinecolor": "white"
           }
          },
          "shapedefaults": {
           "line": {
            "color": "#2a3f5f"
           }
          },
          "ternary": {
           "aaxis": {
            "gridcolor": "white",
            "linecolor": "white",
            "ticks": ""
           },
           "baxis": {
            "gridcolor": "white",
            "linecolor": "white",
            "ticks": ""
           },
           "bgcolor": "#E5ECF6",
           "caxis": {
            "gridcolor": "white",
            "linecolor": "white",
            "ticks": ""
           }
          },
          "title": {
           "x": 0.05
          },
          "xaxis": {
           "automargin": true,
           "gridcolor": "white",
           "linecolor": "white",
           "ticks": "",
           "title": {
            "standoff": 15
           },
           "zerolinecolor": "white",
           "zerolinewidth": 2
          },
          "yaxis": {
           "automargin": true,
           "gridcolor": "white",
           "linecolor": "white",
           "ticks": "",
           "title": {
            "standoff": 15
           },
           "zerolinecolor": "white",
           "zerolinewidth": 2
          }
         }
        },
        "title": {
         "text": "Distribución de Monto Pagado por Campaña"
        },
        "xaxis": {
         "anchor": "y",
         "domain": [
          0,
          1
         ],
         "title": {
          "text": "Campaña"
         }
        },
        "yaxis": {
         "anchor": "x",
         "domain": [
          0,
          1
         ],
         "title": {
          "text": "Monto (€)"
         }
        }
       }
      }
     },
     "metadata": {},
     "output_type": "display_data"
    }
   ],
   "source": [
    "fig2 = px.box(\n",
    "    filtered_df,\n",
    "    x=\"name\",\n",
    "    y=\"amount_float\",\n",
    "    title=\"Distribución de Monto Pagado por Campaña\",\n",
    "    labels={\"name\": \"Campaña\", \"amount_float\": \"Monto (€)\"},\n",
    ")\n",
    "fig2.show()"
   ]
  },
  {
   "cell_type": "code",
   "execution_count": 7,
   "id": "1efc8021",
   "metadata": {},
   "outputs": [
    {
     "data": {
      "application/vnd.plotly.v1+json": {
       "config": {
        "plotlyServerURL": "https://plot.ly"
       },
       "data": [
        {
         "hovertemplate": "Tipo de Anomalía=NEGATIVE_CONVERSION_TIME<br>Campaña=%{x}<br>Cantidad=%{y}<extra></extra>",
         "legendgroup": "NEGATIVE_CONVERSION_TIME",
         "marker": {
          "color": "#636efa",
          "pattern": {
           "shape": ""
          }
         },
         "name": "NEGATIVE_CONVERSION_TIME",
         "orientation": "v",
         "showlegend": true,
         "textposition": "auto",
         "type": "bar",
         "x": [
          "Selectividad_Meta",
          "Selectividad_TikTok",
          "Selectividad_googleads",
          "fp_meta",
          "fp_tiktok",
          "opos_TikTok",
          "opos_googleads",
          "opos_meta"
         ],
         "xaxis": "x",
         "y": {
          "bdata": "BgEJBAUFBgQ=",
          "dtype": "i1"
         },
         "yaxis": "y"
        }
       ],
       "layout": {
        "barmode": "relative",
        "legend": {
         "title": {
          "text": "Tipo de Anomalía"
         },
         "tracegroupgap": 0
        },
        "template": {
         "data": {
          "bar": [
           {
            "error_x": {
             "color": "#2a3f5f"
            },
            "error_y": {
             "color": "#2a3f5f"
            },
            "marker": {
             "line": {
              "color": "#E5ECF6",
              "width": 0.5
             },
             "pattern": {
              "fillmode": "overlay",
              "size": 10,
              "solidity": 0.2
             }
            },
            "type": "bar"
           }
          ],
          "barpolar": [
           {
            "marker": {
             "line": {
              "color": "#E5ECF6",
              "width": 0.5
             },
             "pattern": {
              "fillmode": "overlay",
              "size": 10,
              "solidity": 0.2
             }
            },
            "type": "barpolar"
           }
          ],
          "carpet": [
           {
            "aaxis": {
             "endlinecolor": "#2a3f5f",
             "gridcolor": "white",
             "linecolor": "white",
             "minorgridcolor": "white",
             "startlinecolor": "#2a3f5f"
            },
            "baxis": {
             "endlinecolor": "#2a3f5f",
             "gridcolor": "white",
             "linecolor": "white",
             "minorgridcolor": "white",
             "startlinecolor": "#2a3f5f"
            },
            "type": "carpet"
           }
          ],
          "choropleth": [
           {
            "colorbar": {
             "outlinewidth": 0,
             "ticks": ""
            },
            "type": "choropleth"
           }
          ],
          "contour": [
           {
            "colorbar": {
             "outlinewidth": 0,
             "ticks": ""
            },
            "colorscale": [
             [
              0,
              "#0d0887"
             ],
             [
              0.1111111111111111,
              "#46039f"
             ],
             [
              0.2222222222222222,
              "#7201a8"
             ],
             [
              0.3333333333333333,
              "#9c179e"
             ],
             [
              0.4444444444444444,
              "#bd3786"
             ],
             [
              0.5555555555555556,
              "#d8576b"
             ],
             [
              0.6666666666666666,
              "#ed7953"
             ],
             [
              0.7777777777777778,
              "#fb9f3a"
             ],
             [
              0.8888888888888888,
              "#fdca26"
             ],
             [
              1,
              "#f0f921"
             ]
            ],
            "type": "contour"
           }
          ],
          "contourcarpet": [
           {
            "colorbar": {
             "outlinewidth": 0,
             "ticks": ""
            },
            "type": "contourcarpet"
           }
          ],
          "heatmap": [
           {
            "colorbar": {
             "outlinewidth": 0,
             "ticks": ""
            },
            "colorscale": [
             [
              0,
              "#0d0887"
             ],
             [
              0.1111111111111111,
              "#46039f"
             ],
             [
              0.2222222222222222,
              "#7201a8"
             ],
             [
              0.3333333333333333,
              "#9c179e"
             ],
             [
              0.4444444444444444,
              "#bd3786"
             ],
             [
              0.5555555555555556,
              "#d8576b"
             ],
             [
              0.6666666666666666,
              "#ed7953"
             ],
             [
              0.7777777777777778,
              "#fb9f3a"
             ],
             [
              0.8888888888888888,
              "#fdca26"
             ],
             [
              1,
              "#f0f921"
             ]
            ],
            "type": "heatmap"
           }
          ],
          "histogram": [
           {
            "marker": {
             "pattern": {
              "fillmode": "overlay",
              "size": 10,
              "solidity": 0.2
             }
            },
            "type": "histogram"
           }
          ],
          "histogram2d": [
           {
            "colorbar": {
             "outlinewidth": 0,
             "ticks": ""
            },
            "colorscale": [
             [
              0,
              "#0d0887"
             ],
             [
              0.1111111111111111,
              "#46039f"
             ],
             [
              0.2222222222222222,
              "#7201a8"
             ],
             [
              0.3333333333333333,
              "#9c179e"
             ],
             [
              0.4444444444444444,
              "#bd3786"
             ],
             [
              0.5555555555555556,
              "#d8576b"
             ],
             [
              0.6666666666666666,
              "#ed7953"
             ],
             [
              0.7777777777777778,
              "#fb9f3a"
             ],
             [
              0.8888888888888888,
              "#fdca26"
             ],
             [
              1,
              "#f0f921"
             ]
            ],
            "type": "histogram2d"
           }
          ],
          "histogram2dcontour": [
           {
            "colorbar": {
             "outlinewidth": 0,
             "ticks": ""
            },
            "colorscale": [
             [
              0,
              "#0d0887"
             ],
             [
              0.1111111111111111,
              "#46039f"
             ],
             [
              0.2222222222222222,
              "#7201a8"
             ],
             [
              0.3333333333333333,
              "#9c179e"
             ],
             [
              0.4444444444444444,
              "#bd3786"
             ],
             [
              0.5555555555555556,
              "#d8576b"
             ],
             [
              0.6666666666666666,
              "#ed7953"
             ],
             [
              0.7777777777777778,
              "#fb9f3a"
             ],
             [
              0.8888888888888888,
              "#fdca26"
             ],
             [
              1,
              "#f0f921"
             ]
            ],
            "type": "histogram2dcontour"
           }
          ],
          "mesh3d": [
           {
            "colorbar": {
             "outlinewidth": 0,
             "ticks": ""
            },
            "type": "mesh3d"
           }
          ],
          "parcoords": [
           {
            "line": {
             "colorbar": {
              "outlinewidth": 0,
              "ticks": ""
             }
            },
            "type": "parcoords"
           }
          ],
          "pie": [
           {
            "automargin": true,
            "type": "pie"
           }
          ],
          "scatter": [
           {
            "fillpattern": {
             "fillmode": "overlay",
             "size": 10,
             "solidity": 0.2
            },
            "type": "scatter"
           }
          ],
          "scatter3d": [
           {
            "line": {
             "colorbar": {
              "outlinewidth": 0,
              "ticks": ""
             }
            },
            "marker": {
             "colorbar": {
              "outlinewidth": 0,
              "ticks": ""
             }
            },
            "type": "scatter3d"
           }
          ],
          "scattercarpet": [
           {
            "marker": {
             "colorbar": {
              "outlinewidth": 0,
              "ticks": ""
             }
            },
            "type": "scattercarpet"
           }
          ],
          "scattergeo": [
           {
            "marker": {
             "colorbar": {
              "outlinewidth": 0,
              "ticks": ""
             }
            },
            "type": "scattergeo"
           }
          ],
          "scattergl": [
           {
            "marker": {
             "colorbar": {
              "outlinewidth": 0,
              "ticks": ""
             }
            },
            "type": "scattergl"
           }
          ],
          "scattermap": [
           {
            "marker": {
             "colorbar": {
              "outlinewidth": 0,
              "ticks": ""
             }
            },
            "type": "scattermap"
           }
          ],
          "scattermapbox": [
           {
            "marker": {
             "colorbar": {
              "outlinewidth": 0,
              "ticks": ""
             }
            },
            "type": "scattermapbox"
           }
          ],
          "scatterpolar": [
           {
            "marker": {
             "colorbar": {
              "outlinewidth": 0,
              "ticks": ""
             }
            },
            "type": "scatterpolar"
           }
          ],
          "scatterpolargl": [
           {
            "marker": {
             "colorbar": {
              "outlinewidth": 0,
              "ticks": ""
             }
            },
            "type": "scatterpolargl"
           }
          ],
          "scatterternary": [
           {
            "marker": {
             "colorbar": {
              "outlinewidth": 0,
              "ticks": ""
             }
            },
            "type": "scatterternary"
           }
          ],
          "surface": [
           {
            "colorbar": {
             "outlinewidth": 0,
             "ticks": ""
            },
            "colorscale": [
             [
              0,
              "#0d0887"
             ],
             [
              0.1111111111111111,
              "#46039f"
             ],
             [
              0.2222222222222222,
              "#7201a8"
             ],
             [
              0.3333333333333333,
              "#9c179e"
             ],
             [
              0.4444444444444444,
              "#bd3786"
             ],
             [
              0.5555555555555556,
              "#d8576b"
             ],
             [
              0.6666666666666666,
              "#ed7953"
             ],
             [
              0.7777777777777778,
              "#fb9f3a"
             ],
             [
              0.8888888888888888,
              "#fdca26"
             ],
             [
              1,
              "#f0f921"
             ]
            ],
            "type": "surface"
           }
          ],
          "table": [
           {
            "cells": {
             "fill": {
              "color": "#EBF0F8"
             },
             "line": {
              "color": "white"
             }
            },
            "header": {
             "fill": {
              "color": "#C8D4E3"
             },
             "line": {
              "color": "white"
             }
            },
            "type": "table"
           }
          ]
         },
         "layout": {
          "annotationdefaults": {
           "arrowcolor": "#2a3f5f",
           "arrowhead": 0,
           "arrowwidth": 1
          },
          "autotypenumbers": "strict",
          "coloraxis": {
           "colorbar": {
            "outlinewidth": 0,
            "ticks": ""
           }
          },
          "colorscale": {
           "diverging": [
            [
             0,
             "#8e0152"
            ],
            [
             0.1,
             "#c51b7d"
            ],
            [
             0.2,
             "#de77ae"
            ],
            [
             0.3,
             "#f1b6da"
            ],
            [
             0.4,
             "#fde0ef"
            ],
            [
             0.5,
             "#f7f7f7"
            ],
            [
             0.6,
             "#e6f5d0"
            ],
            [
             0.7,
             "#b8e186"
            ],
            [
             0.8,
             "#7fbc41"
            ],
            [
             0.9,
             "#4d9221"
            ],
            [
             1,
             "#276419"
            ]
           ],
           "sequential": [
            [
             0,
             "#0d0887"
            ],
            [
             0.1111111111111111,
             "#46039f"
            ],
            [
             0.2222222222222222,
             "#7201a8"
            ],
            [
             0.3333333333333333,
             "#9c179e"
            ],
            [
             0.4444444444444444,
             "#bd3786"
            ],
            [
             0.5555555555555556,
             "#d8576b"
            ],
            [
             0.6666666666666666,
             "#ed7953"
            ],
            [
             0.7777777777777778,
             "#fb9f3a"
            ],
            [
             0.8888888888888888,
             "#fdca26"
            ],
            [
             1,
             "#f0f921"
            ]
           ],
           "sequentialminus": [
            [
             0,
             "#0d0887"
            ],
            [
             0.1111111111111111,
             "#46039f"
            ],
            [
             0.2222222222222222,
             "#7201a8"
            ],
            [
             0.3333333333333333,
             "#9c179e"
            ],
            [
             0.4444444444444444,
             "#bd3786"
            ],
            [
             0.5555555555555556,
             "#d8576b"
            ],
            [
             0.6666666666666666,
             "#ed7953"
            ],
            [
             0.7777777777777778,
             "#fb9f3a"
            ],
            [
             0.8888888888888888,
             "#fdca26"
            ],
            [
             1,
             "#f0f921"
            ]
           ]
          },
          "colorway": [
           "#636efa",
           "#EF553B",
           "#00cc96",
           "#ab63fa",
           "#FFA15A",
           "#19d3f3",
           "#FF6692",
           "#B6E880",
           "#FF97FF",
           "#FECB52"
          ],
          "font": {
           "color": "#2a3f5f"
          },
          "geo": {
           "bgcolor": "white",
           "lakecolor": "white",
           "landcolor": "#E5ECF6",
           "showlakes": true,
           "showland": true,
           "subunitcolor": "white"
          },
          "hoverlabel": {
           "align": "left"
          },
          "hovermode": "closest",
          "mapbox": {
           "style": "light"
          },
          "paper_bgcolor": "white",
          "plot_bgcolor": "#E5ECF6",
          "polar": {
           "angularaxis": {
            "gridcolor": "white",
            "linecolor": "white",
            "ticks": ""
           },
           "bgcolor": "#E5ECF6",
           "radialaxis": {
            "gridcolor": "white",
            "linecolor": "white",
            "ticks": ""
           }
          },
          "scene": {
           "xaxis": {
            "backgroundcolor": "#E5ECF6",
            "gridcolor": "white",
            "gridwidth": 2,
            "linecolor": "white",
            "showbackground": true,
            "ticks": "",
            "zerolinecolor": "white"
           },
           "yaxis": {
            "backgroundcolor": "#E5ECF6",
            "gridcolor": "white",
            "gridwidth": 2,
            "linecolor": "white",
            "showbackground": true,
            "ticks": "",
            "zerolinecolor": "white"
           },
           "zaxis": {
            "backgroundcolor": "#E5ECF6",
            "gridcolor": "white",
            "gridwidth": 2,
            "linecolor": "white",
            "showbackground": true,
            "ticks": "",
            "zerolinecolor": "white"
           }
          },
          "shapedefaults": {
           "line": {
            "color": "#2a3f5f"
           }
          },
          "ternary": {
           "aaxis": {
            "gridcolor": "white",
            "linecolor": "white",
            "ticks": ""
           },
           "baxis": {
            "gridcolor": "white",
            "linecolor": "white",
            "ticks": ""
           },
           "bgcolor": "#E5ECF6",
           "caxis": {
            "gridcolor": "white",
            "linecolor": "white",
            "ticks": ""
           }
          },
          "title": {
           "x": 0.05
          },
          "xaxis": {
           "automargin": true,
           "gridcolor": "white",
           "linecolor": "white",
           "ticks": "",
           "title": {
            "standoff": 15
           },
           "zerolinecolor": "white",
           "zerolinewidth": 2
          },
          "yaxis": {
           "automargin": true,
           "gridcolor": "white",
           "linecolor": "white",
           "ticks": "",
           "title": {
            "standoff": 15
           },
           "zerolinecolor": "white",
           "zerolinewidth": 2
          }
         }
        },
        "title": {
         "text": "Tipos de Anomalía por Campaña"
        },
        "xaxis": {
         "anchor": "y",
         "domain": [
          0,
          1
         ],
         "title": {
          "text": "Campaña"
         }
        },
        "yaxis": {
         "anchor": "x",
         "domain": [
          0,
          1
         ],
         "title": {
          "text": "Cantidad"
         }
        }
       }
      }
     },
     "metadata": {},
     "output_type": "display_data"
    }
   ],
   "source": [
    "anomalies_df = filtered_df[\n",
    "    (filtered_df[\"conversion_anomaly_type\"] != \"NO_ANOMALY\") &\n",
    "    (filtered_df[\"converted\"] == True)\n",
    "]\n",
    "\n",
    "anomaly_counts = anomalies_df.groupby(\n",
    "    [\"name\", \"conversion_anomaly_type\"]\n",
    ").size().reset_index(name=\"count\")\n",
    "\n",
    "fig3 = px.bar(\n",
    "    anomaly_counts,\n",
    "    x=\"name\",\n",
    "    y=\"count\",\n",
    "    color=\"conversion_anomaly_type\",\n",
    "    title=\"Tipos de Anomalía por Campaña\",\n",
    "    labels={\n",
    "        \"name\": \"Campaña\",\n",
    "        \"count\": \"Cantidad\",\n",
    "        \"conversion_anomaly_type\": \"Tipo de Anomalía\",\n",
    "    },\n",
    ")\n",
    "fig3.show()"
   ]
  },
  {
   "cell_type": "code",
   "execution_count": 8,
   "id": "3893a35a",
   "metadata": {},
   "outputs": [
    {
     "data": {
      "application/vnd.plotly.v1+json": {
       "config": {
        "plotlyServerURL": "https://plot.ly"
       },
       "data": [
        {
         "hovertemplate": "Fuente de Campaña=%{x}<br>Tasa de Conversión (%)=%{y}<extra></extra>",
         "legendgroup": "",
         "marker": {
          "color": "#636efa",
          "pattern": {
           "shape": ""
          }
         },
         "name": "",
         "orientation": "v",
         "showlegend": false,
         "textposition": "auto",
         "type": "bar",
         "x": [
          "CAMPAIGN_001",
          "CAMPAIGN_002",
          "CAMPAIGN_003",
          "CAMPAIGN_004",
          "CAMPAIGN_005",
          "CAMPAIGN_006",
          "CAMPAIGN_007",
          "CAMPAIGN_008"
         ],
         "xaxis": "x",
         "y": {
          "bdata": "09LS0tLSAkAAAAAAAMAiQDaU11BeQwlAAAAAAAAAIEDHcRzHcRwfQIKodGTPQBRAAAAAAAAAEEBdVgyU8EYTQA==",
          "dtype": "f8"
         },
         "yaxis": "y"
        }
       ],
       "layout": {
        "barmode": "relative",
        "legend": {
         "tracegroupgap": 0
        },
        "template": {
         "data": {
          "bar": [
           {
            "error_x": {
             "color": "#2a3f5f"
            },
            "error_y": {
             "color": "#2a3f5f"
            },
            "marker": {
             "line": {
              "color": "#E5ECF6",
              "width": 0.5
             },
             "pattern": {
              "fillmode": "overlay",
              "size": 10,
              "solidity": 0.2
             }
            },
            "type": "bar"
           }
          ],
          "barpolar": [
           {
            "marker": {
             "line": {
              "color": "#E5ECF6",
              "width": 0.5
             },
             "pattern": {
              "fillmode": "overlay",
              "size": 10,
              "solidity": 0.2
             }
            },
            "type": "barpolar"
           }
          ],
          "carpet": [
           {
            "aaxis": {
             "endlinecolor": "#2a3f5f",
             "gridcolor": "white",
             "linecolor": "white",
             "minorgridcolor": "white",
             "startlinecolor": "#2a3f5f"
            },
            "baxis": {
             "endlinecolor": "#2a3f5f",
             "gridcolor": "white",
             "linecolor": "white",
             "minorgridcolor": "white",
             "startlinecolor": "#2a3f5f"
            },
            "type": "carpet"
           }
          ],
          "choropleth": [
           {
            "colorbar": {
             "outlinewidth": 0,
             "ticks": ""
            },
            "type": "choropleth"
           }
          ],
          "contour": [
           {
            "colorbar": {
             "outlinewidth": 0,
             "ticks": ""
            },
            "colorscale": [
             [
              0,
              "#0d0887"
             ],
             [
              0.1111111111111111,
              "#46039f"
             ],
             [
              0.2222222222222222,
              "#7201a8"
             ],
             [
              0.3333333333333333,
              "#9c179e"
             ],
             [
              0.4444444444444444,
              "#bd3786"
             ],
             [
              0.5555555555555556,
              "#d8576b"
             ],
             [
              0.6666666666666666,
              "#ed7953"
             ],
             [
              0.7777777777777778,
              "#fb9f3a"
             ],
             [
              0.8888888888888888,
              "#fdca26"
             ],
             [
              1,
              "#f0f921"
             ]
            ],
            "type": "contour"
           }
          ],
          "contourcarpet": [
           {
            "colorbar": {
             "outlinewidth": 0,
             "ticks": ""
            },
            "type": "contourcarpet"
           }
          ],
          "heatmap": [
           {
            "colorbar": {
             "outlinewidth": 0,
             "ticks": ""
            },
            "colorscale": [
             [
              0,
              "#0d0887"
             ],
             [
              0.1111111111111111,
              "#46039f"
             ],
             [
              0.2222222222222222,
              "#7201a8"
             ],
             [
              0.3333333333333333,
              "#9c179e"
             ],
             [
              0.4444444444444444,
              "#bd3786"
             ],
             [
              0.5555555555555556,
              "#d8576b"
             ],
             [
              0.6666666666666666,
              "#ed7953"
             ],
             [
              0.7777777777777778,
              "#fb9f3a"
             ],
             [
              0.8888888888888888,
              "#fdca26"
             ],
             [
              1,
              "#f0f921"
             ]
            ],
            "type": "heatmap"
           }
          ],
          "histogram": [
           {
            "marker": {
             "pattern": {
              "fillmode": "overlay",
              "size": 10,
              "solidity": 0.2
             }
            },
            "type": "histogram"
           }
          ],
          "histogram2d": [
           {
            "colorbar": {
             "outlinewidth": 0,
             "ticks": ""
            },
            "colorscale": [
             [
              0,
              "#0d0887"
             ],
             [
              0.1111111111111111,
              "#46039f"
             ],
             [
              0.2222222222222222,
              "#7201a8"
             ],
             [
              0.3333333333333333,
              "#9c179e"
             ],
             [
              0.4444444444444444,
              "#bd3786"
             ],
             [
              0.5555555555555556,
              "#d8576b"
             ],
             [
              0.6666666666666666,
              "#ed7953"
             ],
             [
              0.7777777777777778,
              "#fb9f3a"
             ],
             [
              0.8888888888888888,
              "#fdca26"
             ],
             [
              1,
              "#f0f921"
             ]
            ],
            "type": "histogram2d"
           }
          ],
          "histogram2dcontour": [
           {
            "colorbar": {
             "outlinewidth": 0,
             "ticks": ""
            },
            "colorscale": [
             [
              0,
              "#0d0887"
             ],
             [
              0.1111111111111111,
              "#46039f"
             ],
             [
              0.2222222222222222,
              "#7201a8"
             ],
             [
              0.3333333333333333,
              "#9c179e"
             ],
             [
              0.4444444444444444,
              "#bd3786"
             ],
             [
              0.5555555555555556,
              "#d8576b"
             ],
             [
              0.6666666666666666,
              "#ed7953"
             ],
             [
              0.7777777777777778,
              "#fb9f3a"
             ],
             [
              0.8888888888888888,
              "#fdca26"
             ],
             [
              1,
              "#f0f921"
             ]
            ],
            "type": "histogram2dcontour"
           }
          ],
          "mesh3d": [
           {
            "colorbar": {
             "outlinewidth": 0,
             "ticks": ""
            },
            "type": "mesh3d"
           }
          ],
          "parcoords": [
           {
            "line": {
             "colorbar": {
              "outlinewidth": 0,
              "ticks": ""
             }
            },
            "type": "parcoords"
           }
          ],
          "pie": [
           {
            "automargin": true,
            "type": "pie"
           }
          ],
          "scatter": [
           {
            "fillpattern": {
             "fillmode": "overlay",
             "size": 10,
             "solidity": 0.2
            },
            "type": "scatter"
           }
          ],
          "scatter3d": [
           {
            "line": {
             "colorbar": {
              "outlinewidth": 0,
              "ticks": ""
             }
            },
            "marker": {
             "colorbar": {
              "outlinewidth": 0,
              "ticks": ""
             }
            },
            "type": "scatter3d"
           }
          ],
          "scattercarpet": [
           {
            "marker": {
             "colorbar": {
              "outlinewidth": 0,
              "ticks": ""
             }
            },
            "type": "scattercarpet"
           }
          ],
          "scattergeo": [
           {
            "marker": {
             "colorbar": {
              "outlinewidth": 0,
              "ticks": ""
             }
            },
            "type": "scattergeo"
           }
          ],
          "scattergl": [
           {
            "marker": {
             "colorbar": {
              "outlinewidth": 0,
              "ticks": ""
             }
            },
            "type": "scattergl"
           }
          ],
          "scattermap": [
           {
            "marker": {
             "colorbar": {
              "outlinewidth": 0,
              "ticks": ""
             }
            },
            "type": "scattermap"
           }
          ],
          "scattermapbox": [
           {
            "marker": {
             "colorbar": {
              "outlinewidth": 0,
              "ticks": ""
             }
            },
            "type": "scattermapbox"
           }
          ],
          "scatterpolar": [
           {
            "marker": {
             "colorbar": {
              "outlinewidth": 0,
              "ticks": ""
             }
            },
            "type": "scatterpolar"
           }
          ],
          "scatterpolargl": [
           {
            "marker": {
             "colorbar": {
              "outlinewidth": 0,
              "ticks": ""
             }
            },
            "type": "scatterpolargl"
           }
          ],
          "scatterternary": [
           {
            "marker": {
             "colorbar": {
              "outlinewidth": 0,
              "ticks": ""
             }
            },
            "type": "scatterternary"
           }
          ],
          "surface": [
           {
            "colorbar": {
             "outlinewidth": 0,
             "ticks": ""
            },
            "colorscale": [
             [
              0,
              "#0d0887"
             ],
             [
              0.1111111111111111,
              "#46039f"
             ],
             [
              0.2222222222222222,
              "#7201a8"
             ],
             [
              0.3333333333333333,
              "#9c179e"
             ],
             [
              0.4444444444444444,
              "#bd3786"
             ],
             [
              0.5555555555555556,
              "#d8576b"
             ],
             [
              0.6666666666666666,
              "#ed7953"
             ],
             [
              0.7777777777777778,
              "#fb9f3a"
             ],
             [
              0.8888888888888888,
              "#fdca26"
             ],
             [
              1,
              "#f0f921"
             ]
            ],
            "type": "surface"
           }
          ],
          "table": [
           {
            "cells": {
             "fill": {
              "color": "#EBF0F8"
             },
             "line": {
              "color": "white"
             }
            },
            "header": {
             "fill": {
              "color": "#C8D4E3"
             },
             "line": {
              "color": "white"
             }
            },
            "type": "table"
           }
          ]
         },
         "layout": {
          "annotationdefaults": {
           "arrowcolor": "#2a3f5f",
           "arrowhead": 0,
           "arrowwidth": 1
          },
          "autotypenumbers": "strict",
          "coloraxis": {
           "colorbar": {
            "outlinewidth": 0,
            "ticks": ""
           }
          },
          "colorscale": {
           "diverging": [
            [
             0,
             "#8e0152"
            ],
            [
             0.1,
             "#c51b7d"
            ],
            [
             0.2,
             "#de77ae"
            ],
            [
             0.3,
             "#f1b6da"
            ],
            [
             0.4,
             "#fde0ef"
            ],
            [
             0.5,
             "#f7f7f7"
            ],
            [
             0.6,
             "#e6f5d0"
            ],
            [
             0.7,
             "#b8e186"
            ],
            [
             0.8,
             "#7fbc41"
            ],
            [
             0.9,
             "#4d9221"
            ],
            [
             1,
             "#276419"
            ]
           ],
           "sequential": [
            [
             0,
             "#0d0887"
            ],
            [
             0.1111111111111111,
             "#46039f"
            ],
            [
             0.2222222222222222,
             "#7201a8"
            ],
            [
             0.3333333333333333,
             "#9c179e"
            ],
            [
             0.4444444444444444,
             "#bd3786"
            ],
            [
             0.5555555555555556,
             "#d8576b"
            ],
            [
             0.6666666666666666,
             "#ed7953"
            ],
            [
             0.7777777777777778,
             "#fb9f3a"
            ],
            [
             0.8888888888888888,
             "#fdca26"
            ],
            [
             1,
             "#f0f921"
            ]
           ],
           "sequentialminus": [
            [
             0,
             "#0d0887"
            ],
            [
             0.1111111111111111,
             "#46039f"
            ],
            [
             0.2222222222222222,
             "#7201a8"
            ],
            [
             0.3333333333333333,
             "#9c179e"
            ],
            [
             0.4444444444444444,
             "#bd3786"
            ],
            [
             0.5555555555555556,
             "#d8576b"
            ],
            [
             0.6666666666666666,
             "#ed7953"
            ],
            [
             0.7777777777777778,
             "#fb9f3a"
            ],
            [
             0.8888888888888888,
             "#fdca26"
            ],
            [
             1,
             "#f0f921"
            ]
           ]
          },
          "colorway": [
           "#636efa",
           "#EF553B",
           "#00cc96",
           "#ab63fa",
           "#FFA15A",
           "#19d3f3",
           "#FF6692",
           "#B6E880",
           "#FF97FF",
           "#FECB52"
          ],
          "font": {
           "color": "#2a3f5f"
          },
          "geo": {
           "bgcolor": "white",
           "lakecolor": "white",
           "landcolor": "#E5ECF6",
           "showlakes": true,
           "showland": true,
           "subunitcolor": "white"
          },
          "hoverlabel": {
           "align": "left"
          },
          "hovermode": "closest",
          "mapbox": {
           "style": "light"
          },
          "paper_bgcolor": "white",
          "plot_bgcolor": "#E5ECF6",
          "polar": {
           "angularaxis": {
            "gridcolor": "white",
            "linecolor": "white",
            "ticks": ""
           },
           "bgcolor": "#E5ECF6",
           "radialaxis": {
            "gridcolor": "white",
            "linecolor": "white",
            "ticks": ""
           }
          },
          "scene": {
           "xaxis": {
            "backgroundcolor": "#E5ECF6",
            "gridcolor": "white",
            "gridwidth": 2,
            "linecolor": "white",
            "showbackground": true,
            "ticks": "",
            "zerolinecolor": "white"
           },
           "yaxis": {
            "backgroundcolor": "#E5ECF6",
            "gridcolor": "white",
            "gridwidth": 2,
            "linecolor": "white",
            "showbackground": true,
            "ticks": "",
            "zerolinecolor": "white"
           },
           "zaxis": {
            "backgroundcolor": "#E5ECF6",
            "gridcolor": "white",
            "gridwidth": 2,
            "linecolor": "white",
            "showbackground": true,
            "ticks": "",
            "zerolinecolor": "white"
           }
          },
          "shapedefaults": {
           "line": {
            "color": "#2a3f5f"
           }
          },
          "ternary": {
           "aaxis": {
            "gridcolor": "white",
            "linecolor": "white",
            "ticks": ""
           },
           "baxis": {
            "gridcolor": "white",
            "linecolor": "white",
            "ticks": ""
           },
           "bgcolor": "#E5ECF6",
           "caxis": {
            "gridcolor": "white",
            "linecolor": "white",
            "ticks": ""
           }
          },
          "title": {
           "x": 0.05
          },
          "xaxis": {
           "automargin": true,
           "gridcolor": "white",
           "linecolor": "white",
           "ticks": "",
           "title": {
            "standoff": 15
           },
           "zerolinecolor": "white",
           "zerolinewidth": 2
          },
          "yaxis": {
           "automargin": true,
           "gridcolor": "white",
           "linecolor": "white",
           "ticks": "",
           "title": {
            "standoff": 15
           },
           "zerolinecolor": "white",
           "zerolinewidth": 2
          }
         }
        },
        "title": {
         "text": "Tasa de Conversión por Fuente de Campaña"
        },
        "xaxis": {
         "anchor": "y",
         "domain": [
          0,
          1
         ],
         "title": {
          "text": "Fuente de Campaña"
         }
        },
        "yaxis": {
         "anchor": "x",
         "domain": [
          0,
          1
         ],
         "title": {
          "text": "Tasa de Conversión (%)"
         }
        }
       }
      }
     },
     "metadata": {},
     "output_type": "display_data"
    }
   ],
   "source": [
    "source_base_df = filtered_df.copy()\n",
    "source_numerator_df = filtered_df[filtered_df[\"conversion_valid\"] == True]\n",
    "\n",
    "if \"input_channel\" in df.columns:\n",
    "    source_conversion = (\n",
    "        source_base_df.groupby(\"input_channel\")[\"lead_id\"].count().reset_index(name=\"total_leads\")\n",
    "        .merge(\n",
    "            source_numerator_df.groupby(\"input_channel\")[\"converted\"].sum().reset_index(name=\"total_converted\"),\n",
    "            on=\"input_channel\",\n",
    "            how=\"left\"\n",
    "        )\n",
    "    )\n",
    "    source_conversion[\"conversion_rate\"] = (\n",
    "        source_conversion[\"total_converted\"] / source_conversion[\"total_leads\"] * 100\n",
    "    )\n",
    "\n",
    "    fig4 = px.bar(\n",
    "        source_conversion,\n",
    "        x=\"input_channel\",\n",
    "        y=\"conversion_rate\",\n",
    "        title=\"Tasa de Conversión por Fuente de Campaña\",\n",
    "        labels={\"input_channel\": \"Fuente de Campaña\", \"conversion_rate\": \"Tasa de Conversión (%)\"},\n",
    "    )\n",
    "    fig4.show()"
   ]
  },
  {
   "cell_type": "code",
   "execution_count": 9,
   "id": "d93c4ac6",
   "metadata": {},
   "outputs": [
    {
     "data": {
      "application/vnd.plotly.v1+json": {
       "config": {
        "plotlyServerURL": "https://plot.ly"
       },
       "data": [
        {
         "hovertemplate": "Campaña=%{x}<br>Tasa de Conversión (%)=%{y}<extra></extra>",
         "legendgroup": "",
         "marker": {
          "color": "#636efa",
          "pattern": {
           "shape": ""
          }
         },
         "name": "",
         "orientation": "v",
         "showlegend": false,
         "textposition": "auto",
         "type": "bar",
         "x": [
          "Selectividad_Meta",
          "Selectividad_TikTok",
          "Selectividad_googleads",
          "fp_meta",
          "fp_tiktok",
          "opos_TikTok",
          "opos_googleads",
          "opos_meta"
         ],
         "xaxis": "x",
         "y": {
          "bdata": "AAAAAADAIkDT0tLS0tICQDaU11BeQwlAXVYMlPBGE0AAAAAAAAAQQAAAAAAAACBAgqh0ZM9AFEDHcRzHcRwfQA==",
          "dtype": "f8"
         },
         "yaxis": "y"
        }
       ],
       "layout": {
        "barmode": "relative",
        "legend": {
         "tracegroupgap": 0
        },
        "template": {
         "data": {
          "bar": [
           {
            "error_x": {
             "color": "#2a3f5f"
            },
            "error_y": {
             "color": "#2a3f5f"
            },
            "marker": {
             "line": {
              "color": "#E5ECF6",
              "width": 0.5
             },
             "pattern": {
              "fillmode": "overlay",
              "size": 10,
              "solidity": 0.2
             }
            },
            "type": "bar"
           }
          ],
          "barpolar": [
           {
            "marker": {
             "line": {
              "color": "#E5ECF6",
              "width": 0.5
             },
             "pattern": {
              "fillmode": "overlay",
              "size": 10,
              "solidity": 0.2
             }
            },
            "type": "barpolar"
           }
          ],
          "carpet": [
           {
            "aaxis": {
             "endlinecolor": "#2a3f5f",
             "gridcolor": "white",
             "linecolor": "white",
             "minorgridcolor": "white",
             "startlinecolor": "#2a3f5f"
            },
            "baxis": {
             "endlinecolor": "#2a3f5f",
             "gridcolor": "white",
             "linecolor": "white",
             "minorgridcolor": "white",
             "startlinecolor": "#2a3f5f"
            },
            "type": "carpet"
           }
          ],
          "choropleth": [
           {
            "colorbar": {
             "outlinewidth": 0,
             "ticks": ""
            },
            "type": "choropleth"
           }
          ],
          "contour": [
           {
            "colorbar": {
             "outlinewidth": 0,
             "ticks": ""
            },
            "colorscale": [
             [
              0,
              "#0d0887"
             ],
             [
              0.1111111111111111,
              "#46039f"
             ],
             [
              0.2222222222222222,
              "#7201a8"
             ],
             [
              0.3333333333333333,
              "#9c179e"
             ],
             [
              0.4444444444444444,
              "#bd3786"
             ],
             [
              0.5555555555555556,
              "#d8576b"
             ],
             [
              0.6666666666666666,
              "#ed7953"
             ],
             [
              0.7777777777777778,
              "#fb9f3a"
             ],
             [
              0.8888888888888888,
              "#fdca26"
             ],
             [
              1,
              "#f0f921"
             ]
            ],
            "type": "contour"
           }
          ],
          "contourcarpet": [
           {
            "colorbar": {
             "outlinewidth": 0,
             "ticks": ""
            },
            "type": "contourcarpet"
           }
          ],
          "heatmap": [
           {
            "colorbar": {
             "outlinewidth": 0,
             "ticks": ""
            },
            "colorscale": [
             [
              0,
              "#0d0887"
             ],
             [
              0.1111111111111111,
              "#46039f"
             ],
             [
              0.2222222222222222,
              "#7201a8"
             ],
             [
              0.3333333333333333,
              "#9c179e"
             ],
             [
              0.4444444444444444,
              "#bd3786"
             ],
             [
              0.5555555555555556,
              "#d8576b"
             ],
             [
              0.6666666666666666,
              "#ed7953"
             ],
             [
              0.7777777777777778,
              "#fb9f3a"
             ],
             [
              0.8888888888888888,
              "#fdca26"
             ],
             [
              1,
              "#f0f921"
             ]
            ],
            "type": "heatmap"
           }
          ],
          "histogram": [
           {
            "marker": {
             "pattern": {
              "fillmode": "overlay",
              "size": 10,
              "solidity": 0.2
             }
            },
            "type": "histogram"
           }
          ],
          "histogram2d": [
           {
            "colorbar": {
             "outlinewidth": 0,
             "ticks": ""
            },
            "colorscale": [
             [
              0,
              "#0d0887"
             ],
             [
              0.1111111111111111,
              "#46039f"
             ],
             [
              0.2222222222222222,
              "#7201a8"
             ],
             [
              0.3333333333333333,
              "#9c179e"
             ],
             [
              0.4444444444444444,
              "#bd3786"
             ],
             [
              0.5555555555555556,
              "#d8576b"
             ],
             [
              0.6666666666666666,
              "#ed7953"
             ],
             [
              0.7777777777777778,
              "#fb9f3a"
             ],
             [
              0.8888888888888888,
              "#fdca26"
             ],
             [
              1,
              "#f0f921"
             ]
            ],
            "type": "histogram2d"
           }
          ],
          "histogram2dcontour": [
           {
            "colorbar": {
             "outlinewidth": 0,
             "ticks": ""
            },
            "colorscale": [
             [
              0,
              "#0d0887"
             ],
             [
              0.1111111111111111,
              "#46039f"
             ],
             [
              0.2222222222222222,
              "#7201a8"
             ],
             [
              0.3333333333333333,
              "#9c179e"
             ],
             [
              0.4444444444444444,
              "#bd3786"
             ],
             [
              0.5555555555555556,
              "#d8576b"
             ],
             [
              0.6666666666666666,
              "#ed7953"
             ],
             [
              0.7777777777777778,
              "#fb9f3a"
             ],
             [
              0.8888888888888888,
              "#fdca26"
             ],
             [
              1,
              "#f0f921"
             ]
            ],
            "type": "histogram2dcontour"
           }
          ],
          "mesh3d": [
           {
            "colorbar": {
             "outlinewidth": 0,
             "ticks": ""
            },
            "type": "mesh3d"
           }
          ],
          "parcoords": [
           {
            "line": {
             "colorbar": {
              "outlinewidth": 0,
              "ticks": ""
             }
            },
            "type": "parcoords"
           }
          ],
          "pie": [
           {
            "automargin": true,
            "type": "pie"
           }
          ],
          "scatter": [
           {
            "fillpattern": {
             "fillmode": "overlay",
             "size": 10,
             "solidity": 0.2
            },
            "type": "scatter"
           }
          ],
          "scatter3d": [
           {
            "line": {
             "colorbar": {
              "outlinewidth": 0,
              "ticks": ""
             }
            },
            "marker": {
             "colorbar": {
              "outlinewidth": 0,
              "ticks": ""
             }
            },
            "type": "scatter3d"
           }
          ],
          "scattercarpet": [
           {
            "marker": {
             "colorbar": {
              "outlinewidth": 0,
              "ticks": ""
             }
            },
            "type": "scattercarpet"
           }
          ],
          "scattergeo": [
           {
            "marker": {
             "colorbar": {
              "outlinewidth": 0,
              "ticks": ""
             }
            },
            "type": "scattergeo"
           }
          ],
          "scattergl": [
           {
            "marker": {
             "colorbar": {
              "outlinewidth": 0,
              "ticks": ""
             }
            },
            "type": "scattergl"
           }
          ],
          "scattermap": [
           {
            "marker": {
             "colorbar": {
              "outlinewidth": 0,
              "ticks": ""
             }
            },
            "type": "scattermap"
           }
          ],
          "scattermapbox": [
           {
            "marker": {
             "colorbar": {
              "outlinewidth": 0,
              "ticks": ""
             }
            },
            "type": "scattermapbox"
           }
          ],
          "scatterpolar": [
           {
            "marker": {
             "colorbar": {
              "outlinewidth": 0,
              "ticks": ""
             }
            },
            "type": "scatterpolar"
           }
          ],
          "scatterpolargl": [
           {
            "marker": {
             "colorbar": {
              "outlinewidth": 0,
              "ticks": ""
             }
            },
            "type": "scatterpolargl"
           }
          ],
          "scatterternary": [
           {
            "marker": {
             "colorbar": {
              "outlinewidth": 0,
              "ticks": ""
             }
            },
            "type": "scatterternary"
           }
          ],
          "surface": [
           {
            "colorbar": {
             "outlinewidth": 0,
             "ticks": ""
            },
            "colorscale": [
             [
              0,
              "#0d0887"
             ],
             [
              0.1111111111111111,
              "#46039f"
             ],
             [
              0.2222222222222222,
              "#7201a8"
             ],
             [
              0.3333333333333333,
              "#9c179e"
             ],
             [
              0.4444444444444444,
              "#bd3786"
             ],
             [
              0.5555555555555556,
              "#d8576b"
             ],
             [
              0.6666666666666666,
              "#ed7953"
             ],
             [
              0.7777777777777778,
              "#fb9f3a"
             ],
             [
              0.8888888888888888,
              "#fdca26"
             ],
             [
              1,
              "#f0f921"
             ]
            ],
            "type": "surface"
           }
          ],
          "table": [
           {
            "cells": {
             "fill": {
              "color": "#EBF0F8"
             },
             "line": {
              "color": "white"
             }
            },
            "header": {
             "fill": {
              "color": "#C8D4E3"
             },
             "line": {
              "color": "white"
             }
            },
            "type": "table"
           }
          ]
         },
         "layout": {
          "annotationdefaults": {
           "arrowcolor": "#2a3f5f",
           "arrowhead": 0,
           "arrowwidth": 1
          },
          "autotypenumbers": "strict",
          "coloraxis": {
           "colorbar": {
            "outlinewidth": 0,
            "ticks": ""
           }
          },
          "colorscale": {
           "diverging": [
            [
             0,
             "#8e0152"
            ],
            [
             0.1,
             "#c51b7d"
            ],
            [
             0.2,
             "#de77ae"
            ],
            [
             0.3,
             "#f1b6da"
            ],
            [
             0.4,
             "#fde0ef"
            ],
            [
             0.5,
             "#f7f7f7"
            ],
            [
             0.6,
             "#e6f5d0"
            ],
            [
             0.7,
             "#b8e186"
            ],
            [
             0.8,
             "#7fbc41"
            ],
            [
             0.9,
             "#4d9221"
            ],
            [
             1,
             "#276419"
            ]
           ],
           "sequential": [
            [
             0,
             "#0d0887"
            ],
            [
             0.1111111111111111,
             "#46039f"
            ],
            [
             0.2222222222222222,
             "#7201a8"
            ],
            [
             0.3333333333333333,
             "#9c179e"
            ],
            [
             0.4444444444444444,
             "#bd3786"
            ],
            [
             0.5555555555555556,
             "#d8576b"
            ],
            [
             0.6666666666666666,
             "#ed7953"
            ],
            [
             0.7777777777777778,
             "#fb9f3a"
            ],
            [
             0.8888888888888888,
             "#fdca26"
            ],
            [
             1,
             "#f0f921"
            ]
           ],
           "sequentialminus": [
            [
             0,
             "#0d0887"
            ],
            [
             0.1111111111111111,
             "#46039f"
            ],
            [
             0.2222222222222222,
             "#7201a8"
            ],
            [
             0.3333333333333333,
             "#9c179e"
            ],
            [
             0.4444444444444444,
             "#bd3786"
            ],
            [
             0.5555555555555556,
             "#d8576b"
            ],
            [
             0.6666666666666666,
             "#ed7953"
            ],
            [
             0.7777777777777778,
             "#fb9f3a"
            ],
            [
             0.8888888888888888,
             "#fdca26"
            ],
            [
             1,
             "#f0f921"
            ]
           ]
          },
          "colorway": [
           "#636efa",
           "#EF553B",
           "#00cc96",
           "#ab63fa",
           "#FFA15A",
           "#19d3f3",
           "#FF6692",
           "#B6E880",
           "#FF97FF",
           "#FECB52"
          ],
          "font": {
           "color": "#2a3f5f"
          },
          "geo": {
           "bgcolor": "white",
           "lakecolor": "white",
           "landcolor": "#E5ECF6",
           "showlakes": true,
           "showland": true,
           "subunitcolor": "white"
          },
          "hoverlabel": {
           "align": "left"
          },
          "hovermode": "closest",
          "mapbox": {
           "style": "light"
          },
          "paper_bgcolor": "white",
          "plot_bgcolor": "#E5ECF6",
          "polar": {
           "angularaxis": {
            "gridcolor": "white",
            "linecolor": "white",
            "ticks": ""
           },
           "bgcolor": "#E5ECF6",
           "radialaxis": {
            "gridcolor": "white",
            "linecolor": "white",
            "ticks": ""
           }
          },
          "scene": {
           "xaxis": {
            "backgroundcolor": "#E5ECF6",
            "gridcolor": "white",
            "gridwidth": 2,
            "linecolor": "white",
            "showbackground": true,
            "ticks": "",
            "zerolinecolor": "white"
           },
           "yaxis": {
            "backgroundcolor": "#E5ECF6",
            "gridcolor": "white",
            "gridwidth": 2,
            "linecolor": "white",
            "showbackground": true,
            "ticks": "",
            "zerolinecolor": "white"
           },
           "zaxis": {
            "backgroundcolor": "#E5ECF6",
            "gridcolor": "white",
            "gridwidth": 2,
            "linecolor": "white",
            "showbackground": true,
            "ticks": "",
            "zerolinecolor": "white"
           }
          },
          "shapedefaults": {
           "line": {
            "color": "#2a3f5f"
           }
          },
          "ternary": {
           "aaxis": {
            "gridcolor": "white",
            "linecolor": "white",
            "ticks": ""
           },
           "baxis": {
            "gridcolor": "white",
            "linecolor": "white",
            "ticks": ""
           },
           "bgcolor": "#E5ECF6",
           "caxis": {
            "gridcolor": "white",
            "linecolor": "white",
            "ticks": ""
           }
          },
          "title": {
           "x": 0.05
          },
          "xaxis": {
           "automargin": true,
           "gridcolor": "white",
           "linecolor": "white",
           "ticks": "",
           "title": {
            "standoff": 15
           },
           "zerolinecolor": "white",
           "zerolinewidth": 2
          },
          "yaxis": {
           "automargin": true,
           "gridcolor": "white",
           "linecolor": "white",
           "ticks": "",
           "title": {
            "standoff": 15
           },
           "zerolinecolor": "white",
           "zerolinewidth": 2
          }
         }
        },
        "title": {
         "text": "Porcentaje de Conversión de Leads por Campaña"
        },
        "xaxis": {
         "anchor": "y",
         "domain": [
          0,
          1
         ],
         "title": {
          "text": "Campaña"
         }
        },
        "yaxis": {
         "anchor": "x",
         "domain": [
          0,
          1
         ],
         "title": {
          "text": "Tasa de Conversión (%)"
         }
        }
       }
      }
     },
     "metadata": {},
     "output_type": "display_data"
    }
   ],
   "source": [
    "campaign_base_df = filtered_df.copy()\n",
    "campaign_numerator_df = campaign_base_df[campaign_base_df[\"conversion_valid\"] == True]\n",
    "\n",
    "conversion_rate_by_campaign = (\n",
    "    campaign_base_df.groupby(\"name\")[\"lead_id\"].count().reset_index(name=\"total_leads\")\n",
    "    .merge(\n",
    "        campaign_numerator_df.groupby(\"name\")[\"converted\"].sum().reset_index(name=\"total_converted\"),\n",
    "        on=\"name\",\n",
    "        how=\"left\"\n",
    "    )\n",
    ")\n",
    "conversion_rate_by_campaign[\"conversion_rate\"] = (\n",
    "    conversion_rate_by_campaign[\"total_converted\"] / conversion_rate_by_campaign[\"total_leads\"] * 100\n",
    ")\n",
    "\n",
    "fig5 = px.bar(\n",
    "    conversion_rate_by_campaign,\n",
    "    x=\"name\",\n",
    "    y=\"conversion_rate\",\n",
    "    title=\"Porcentaje de Conversión de Leads por Campaña\",\n",
    "    labels={\"name\": \"Campaña\", \"conversion_rate\": \"Tasa de Conversión (%)\"},\n",
    ")\n",
    "fig5.show()"
   ]
  },
  {
   "cell_type": "code",
   "execution_count": 10,
   "id": "e1890679",
   "metadata": {},
   "outputs": [
    {
     "data": {
      "application/vnd.plotly.v1+json": {
       "config": {
        "plotlyServerURL": "https://plot.ly"
       },
       "data": [
        {
         "textinfo": "value+percent previous",
         "type": "funnel",
         "x": [
          728,
          41
         ],
         "y": [
          "Leads",
          "Convertidos"
         ]
        }
       ],
       "layout": {
        "template": {
         "data": {
          "bar": [
           {
            "error_x": {
             "color": "#2a3f5f"
            },
            "error_y": {
             "color": "#2a3f5f"
            },
            "marker": {
             "line": {
              "color": "#E5ECF6",
              "width": 0.5
             },
             "pattern": {
              "fillmode": "overlay",
              "size": 10,
              "solidity": 0.2
             }
            },
            "type": "bar"
           }
          ],
          "barpolar": [
           {
            "marker": {
             "line": {
              "color": "#E5ECF6",
              "width": 0.5
             },
             "pattern": {
              "fillmode": "overlay",
              "size": 10,
              "solidity": 0.2
             }
            },
            "type": "barpolar"
           }
          ],
          "carpet": [
           {
            "aaxis": {
             "endlinecolor": "#2a3f5f",
             "gridcolor": "white",
             "linecolor": "white",
             "minorgridcolor": "white",
             "startlinecolor": "#2a3f5f"
            },
            "baxis": {
             "endlinecolor": "#2a3f5f",
             "gridcolor": "white",
             "linecolor": "white",
             "minorgridcolor": "white",
             "startlinecolor": "#2a3f5f"
            },
            "type": "carpet"
           }
          ],
          "choropleth": [
           {
            "colorbar": {
             "outlinewidth": 0,
             "ticks": ""
            },
            "type": "choropleth"
           }
          ],
          "contour": [
           {
            "colorbar": {
             "outlinewidth": 0,
             "ticks": ""
            },
            "colorscale": [
             [
              0,
              "#0d0887"
             ],
             [
              0.1111111111111111,
              "#46039f"
             ],
             [
              0.2222222222222222,
              "#7201a8"
             ],
             [
              0.3333333333333333,
              "#9c179e"
             ],
             [
              0.4444444444444444,
              "#bd3786"
             ],
             [
              0.5555555555555556,
              "#d8576b"
             ],
             [
              0.6666666666666666,
              "#ed7953"
             ],
             [
              0.7777777777777778,
              "#fb9f3a"
             ],
             [
              0.8888888888888888,
              "#fdca26"
             ],
             [
              1,
              "#f0f921"
             ]
            ],
            "type": "contour"
           }
          ],
          "contourcarpet": [
           {
            "colorbar": {
             "outlinewidth": 0,
             "ticks": ""
            },
            "type": "contourcarpet"
           }
          ],
          "heatmap": [
           {
            "colorbar": {
             "outlinewidth": 0,
             "ticks": ""
            },
            "colorscale": [
             [
              0,
              "#0d0887"
             ],
             [
              0.1111111111111111,
              "#46039f"
             ],
             [
              0.2222222222222222,
              "#7201a8"
             ],
             [
              0.3333333333333333,
              "#9c179e"
             ],
             [
              0.4444444444444444,
              "#bd3786"
             ],
             [
              0.5555555555555556,
              "#d8576b"
             ],
             [
              0.6666666666666666,
              "#ed7953"
             ],
             [
              0.7777777777777778,
              "#fb9f3a"
             ],
             [
              0.8888888888888888,
              "#fdca26"
             ],
             [
              1,
              "#f0f921"
             ]
            ],
            "type": "heatmap"
           }
          ],
          "histogram": [
           {
            "marker": {
             "pattern": {
              "fillmode": "overlay",
              "size": 10,
              "solidity": 0.2
             }
            },
            "type": "histogram"
           }
          ],
          "histogram2d": [
           {
            "colorbar": {
             "outlinewidth": 0,
             "ticks": ""
            },
            "colorscale": [
             [
              0,
              "#0d0887"
             ],
             [
              0.1111111111111111,
              "#46039f"
             ],
             [
              0.2222222222222222,
              "#7201a8"
             ],
             [
              0.3333333333333333,
              "#9c179e"
             ],
             [
              0.4444444444444444,
              "#bd3786"
             ],
             [
              0.5555555555555556,
              "#d8576b"
             ],
             [
              0.6666666666666666,
              "#ed7953"
             ],
             [
              0.7777777777777778,
              "#fb9f3a"
             ],
             [
              0.8888888888888888,
              "#fdca26"
             ],
             [
              1,
              "#f0f921"
             ]
            ],
            "type": "histogram2d"
           }
          ],
          "histogram2dcontour": [
           {
            "colorbar": {
             "outlinewidth": 0,
             "ticks": ""
            },
            "colorscale": [
             [
              0,
              "#0d0887"
             ],
             [
              0.1111111111111111,
              "#46039f"
             ],
             [
              0.2222222222222222,
              "#7201a8"
             ],
             [
              0.3333333333333333,
              "#9c179e"
             ],
             [
              0.4444444444444444,
              "#bd3786"
             ],
             [
              0.5555555555555556,
              "#d8576b"
             ],
             [
              0.6666666666666666,
              "#ed7953"
             ],
             [
              0.7777777777777778,
              "#fb9f3a"
             ],
             [
              0.8888888888888888,
              "#fdca26"
             ],
             [
              1,
              "#f0f921"
             ]
            ],
            "type": "histogram2dcontour"
           }
          ],
          "mesh3d": [
           {
            "colorbar": {
             "outlinewidth": 0,
             "ticks": ""
            },
            "type": "mesh3d"
           }
          ],
          "parcoords": [
           {
            "line": {
             "colorbar": {
              "outlinewidth": 0,
              "ticks": ""
             }
            },
            "type": "parcoords"
           }
          ],
          "pie": [
           {
            "automargin": true,
            "type": "pie"
           }
          ],
          "scatter": [
           {
            "fillpattern": {
             "fillmode": "overlay",
             "size": 10,
             "solidity": 0.2
            },
            "type": "scatter"
           }
          ],
          "scatter3d": [
           {
            "line": {
             "colorbar": {
              "outlinewidth": 0,
              "ticks": ""
             }
            },
            "marker": {
             "colorbar": {
              "outlinewidth": 0,
              "ticks": ""
             }
            },
            "type": "scatter3d"
           }
          ],
          "scattercarpet": [
           {
            "marker": {
             "colorbar": {
              "outlinewidth": 0,
              "ticks": ""
             }
            },
            "type": "scattercarpet"
           }
          ],
          "scattergeo": [
           {
            "marker": {
             "colorbar": {
              "outlinewidth": 0,
              "ticks": ""
             }
            },
            "type": "scattergeo"
           }
          ],
          "scattergl": [
           {
            "marker": {
             "colorbar": {
              "outlinewidth": 0,
              "ticks": ""
             }
            },
            "type": "scattergl"
           }
          ],
          "scattermap": [
           {
            "marker": {
             "colorbar": {
              "outlinewidth": 0,
              "ticks": ""
             }
            },
            "type": "scattermap"
           }
          ],
          "scattermapbox": [
           {
            "marker": {
             "colorbar": {
              "outlinewidth": 0,
              "ticks": ""
             }
            },
            "type": "scattermapbox"
           }
          ],
          "scatterpolar": [
           {
            "marker": {
             "colorbar": {
              "outlinewidth": 0,
              "ticks": ""
             }
            },
            "type": "scatterpolar"
           }
          ],
          "scatterpolargl": [
           {
            "marker": {
             "colorbar": {
              "outlinewidth": 0,
              "ticks": ""
             }
            },
            "type": "scatterpolargl"
           }
          ],
          "scatterternary": [
           {
            "marker": {
             "colorbar": {
              "outlinewidth": 0,
              "ticks": ""
             }
            },
            "type": "scatterternary"
           }
          ],
          "surface": [
           {
            "colorbar": {
             "outlinewidth": 0,
             "ticks": ""
            },
            "colorscale": [
             [
              0,
              "#0d0887"
             ],
             [
              0.1111111111111111,
              "#46039f"
             ],
             [
              0.2222222222222222,
              "#7201a8"
             ],
             [
              0.3333333333333333,
              "#9c179e"
             ],
             [
              0.4444444444444444,
              "#bd3786"
             ],
             [
              0.5555555555555556,
              "#d8576b"
             ],
             [
              0.6666666666666666,
              "#ed7953"
             ],
             [
              0.7777777777777778,
              "#fb9f3a"
             ],
             [
              0.8888888888888888,
              "#fdca26"
             ],
             [
              1,
              "#f0f921"
             ]
            ],
            "type": "surface"
           }
          ],
          "table": [
           {
            "cells": {
             "fill": {
              "color": "#EBF0F8"
             },
             "line": {
              "color": "white"
             }
            },
            "header": {
             "fill": {
              "color": "#C8D4E3"
             },
             "line": {
              "color": "white"
             }
            },
            "type": "table"
           }
          ]
         },
         "layout": {
          "annotationdefaults": {
           "arrowcolor": "#2a3f5f",
           "arrowhead": 0,
           "arrowwidth": 1
          },
          "autotypenumbers": "strict",
          "coloraxis": {
           "colorbar": {
            "outlinewidth": 0,
            "ticks": ""
           }
          },
          "colorscale": {
           "diverging": [
            [
             0,
             "#8e0152"
            ],
            [
             0.1,
             "#c51b7d"
            ],
            [
             0.2,
             "#de77ae"
            ],
            [
             0.3,
             "#f1b6da"
            ],
            [
             0.4,
             "#fde0ef"
            ],
            [
             0.5,
             "#f7f7f7"
            ],
            [
             0.6,
             "#e6f5d0"
            ],
            [
             0.7,
             "#b8e186"
            ],
            [
             0.8,
             "#7fbc41"
            ],
            [
             0.9,
             "#4d9221"
            ],
            [
             1,
             "#276419"
            ]
           ],
           "sequential": [
            [
             0,
             "#0d0887"
            ],
            [
             0.1111111111111111,
             "#46039f"
            ],
            [
             0.2222222222222222,
             "#7201a8"
            ],
            [
             0.3333333333333333,
             "#9c179e"
            ],
            [
             0.4444444444444444,
             "#bd3786"
            ],
            [
             0.5555555555555556,
             "#d8576b"
            ],
            [
             0.6666666666666666,
             "#ed7953"
            ],
            [
             0.7777777777777778,
             "#fb9f3a"
            ],
            [
             0.8888888888888888,
             "#fdca26"
            ],
            [
             1,
             "#f0f921"
            ]
           ],
           "sequentialminus": [
            [
             0,
             "#0d0887"
            ],
            [
             0.1111111111111111,
             "#46039f"
            ],
            [
             0.2222222222222222,
             "#7201a8"
            ],
            [
             0.3333333333333333,
             "#9c179e"
            ],
            [
             0.4444444444444444,
             "#bd3786"
            ],
            [
             0.5555555555555556,
             "#d8576b"
            ],
            [
             0.6666666666666666,
             "#ed7953"
            ],
            [
             0.7777777777777778,
             "#fb9f3a"
            ],
            [
             0.8888888888888888,
             "#fdca26"
            ],
            [
             1,
             "#f0f921"
            ]
           ]
          },
          "colorway": [
           "#636efa",
           "#EF553B",
           "#00cc96",
           "#ab63fa",
           "#FFA15A",
           "#19d3f3",
           "#FF6692",
           "#B6E880",
           "#FF97FF",
           "#FECB52"
          ],
          "font": {
           "color": "#2a3f5f"
          },
          "geo": {
           "bgcolor": "white",
           "lakecolor": "white",
           "landcolor": "#E5ECF6",
           "showlakes": true,
           "showland": true,
           "subunitcolor": "white"
          },
          "hoverlabel": {
           "align": "left"
          },
          "hovermode": "closest",
          "mapbox": {
           "style": "light"
          },
          "paper_bgcolor": "white",
          "plot_bgcolor": "#E5ECF6",
          "polar": {
           "angularaxis": {
            "gridcolor": "white",
            "linecolor": "white",
            "ticks": ""
           },
           "bgcolor": "#E5ECF6",
           "radialaxis": {
            "gridcolor": "white",
            "linecolor": "white",
            "ticks": ""
           }
          },
          "scene": {
           "xaxis": {
            "backgroundcolor": "#E5ECF6",
            "gridcolor": "white",
            "gridwidth": 2,
            "linecolor": "white",
            "showbackground": true,
            "ticks": "",
            "zerolinecolor": "white"
           },
           "yaxis": {
            "backgroundcolor": "#E5ECF6",
            "gridcolor": "white",
            "gridwidth": 2,
            "linecolor": "white",
            "showbackground": true,
            "ticks": "",
            "zerolinecolor": "white"
           },
           "zaxis": {
            "backgroundcolor": "#E5ECF6",
            "gridcolor": "white",
            "gridwidth": 2,
            "linecolor": "white",
            "showbackground": true,
            "ticks": "",
            "zerolinecolor": "white"
           }
          },
          "shapedefaults": {
           "line": {
            "color": "#2a3f5f"
           }
          },
          "ternary": {
           "aaxis": {
            "gridcolor": "white",
            "linecolor": "white",
            "ticks": ""
           },
           "baxis": {
            "gridcolor": "white",
            "linecolor": "white",
            "ticks": ""
           },
           "bgcolor": "#E5ECF6",
           "caxis": {
            "gridcolor": "white",
            "linecolor": "white",
            "ticks": ""
           }
          },
          "title": {
           "x": 0.05
          },
          "xaxis": {
           "automargin": true,
           "gridcolor": "white",
           "linecolor": "white",
           "ticks": "",
           "title": {
            "standoff": 15
           },
           "zerolinecolor": "white",
           "zerolinewidth": 2
          },
          "yaxis": {
           "automargin": true,
           "gridcolor": "white",
           "linecolor": "white",
           "ticks": "",
           "title": {
            "standoff": 15
           },
           "zerolinecolor": "white",
           "zerolinewidth": 2
          }
         }
        },
        "title": {
         "text": "Embudo de Conversión"
        }
       }
      }
     },
     "metadata": {},
     "output_type": "display_data"
    }
   ],
   "source": [
    "converted_df = campaign_numerator_df[campaign_numerator_df[\"converted\"] == True]\n",
    "\n",
    "funnel_fig = go.Figure(go.Funnel(\n",
    "    y=[\"Leads\", \"Convertidos\"],\n",
    "    x=[len(campaign_base_df), len(converted_df)],\n",
    "    textinfo=\"value+percent previous\"\n",
    "))\n",
    "funnel_fig.update_layout(title=\"Embudo de Conversión\")\n",
    "funnel_fig.show()"
   ]
  },
  {
   "cell_type": "code",
   "execution_count": 17,
   "id": "2ae3627e",
   "metadata": {},
   "outputs": [],
   "source": [
    "fig1.write_image(\"../output/fig1_conversion_by_campaign.png\")\n",
    "fig2.write_image(\"../output/fig2_boxplot_amount.png\")\n",
    "fig3.write_image(\"../output/fig3_anomalies.png\")\n",
    "fig4.write_image(\"../output/fig4_source_conversion.png\")\n",
    "fig5.write_image(\"../output/fig5_campaign_rate.png\")\n",
    "funnel_fig.write_image(\"../output/fig6_funnel.png\")"
   ]
  },
  {
   "cell_type": "code",
   "execution_count": null,
   "id": "30435596",
   "metadata": {},
   "outputs": [
    {
     "name": "stdout",
     "output_type": "stream",
     "text": [
      "✅ PDF gerado com sucesso: ../output/reporte_conversion_campanas.pdf\n"
     ]
    }
   ],
   "source": [
    "from fpdf import FPDF\n",
    "import os\n",
    "\n",
    "chart_dir = \"../output/\"\n",
    "pdf_output_path = os.path.join(chart_dir, \"reporte_conversion_campanas.pdf\")\n",
    "\n",
    "# PDF creation\n",
    "pdf = FPDF()\n",
    "pdf.set_auto_page_break(auto=True, margin=15)\n",
    "\n",
    "def add_chart_with_text(title, image_filename, logic_text, interpretation_text):\n",
    "    pdf.add_page()\n",
    "    pdf.set_font(\"Arial\", \"B\", 16)\n",
    "    pdf.cell(0, 10, title, ln=True)\n",
    "    pdf.ln(5)\n",
    "\n",
    "    if os.path.exists(image_filename):\n",
    "        pdf.image(image_filename, x=10, w=190)\n",
    "        pdf.ln(5)\n",
    "    else:\n",
    "        pdf.set_font(\"Arial\", \"\", 12)\n",
    "        pdf.multi_cell(0, 10, f\"[Imagen no encontrada: {image_filename}]\")\n",
    "    \n",
    "    # Calculation logic\n",
    "    pdf.set_font(\"Arial\", \"B\", 12)\n",
    "    pdf.cell(0, 10, \"Lógica de cálculo:\", ln=True)\n",
    "    pdf.set_font(\"Arial\", \"\", 12)\n",
    "    pdf.multi_cell(0, 10, logic_text)\n",
    "\n",
    "    # Interpretation\n",
    "    pdf.ln(2)\n",
    "    pdf.set_font(\"Arial\", \"B\", 12)\n",
    "    pdf.cell(0, 10, \"Interpretación:\", ln=True)\n",
    "    pdf.set_font(\"Arial\", \"\", 12)\n",
    "    pdf.multi_cell(0, 10, interpretation_text)\n",
    "\n",
    "# cover page\n",
    "pdf.add_page()\n",
    "pdf.set_font(\"Arial\", \"B\", 20)\n",
    "pdf.cell(0, 10, \"Reporte de Conversión de Campañas\", ln=True, align=\"C\")\n",
    "pdf.ln(10)\n",
    "pdf.set_font(\"Arial\", \"\", 14)\n",
    "pdf.multi_cell(0, 10, \"Este informe presenta un análisis visual y descriptivo de los principales indicadores relacionados con las campañas de marketing digital.\")\n",
    "\n",
    "# main metrics\n",
    "pdf.ln(10)\n",
    "pdf.set_font(\"Arial\", \"B\", 12)\n",
    "pdf.cell(0, 10, \"Métricas generales:\", ln=True)\n",
    "pdf.set_font(\"Arial\", \"\", 12)\n",
    "pdf.cell(0, 10, \"Total de Leads: 728\", ln=True)\n",
    "pdf.cell(0, 10, \"Conversiones válidas: 41\", ln=True)\n",
    "pdf.cell(0, 10, \"Conversiones inválidas: 40\", ln=True)\n",
    "\n",
    "# Graphic content\n",
    "charts = [\n",
    "    {\n",
    "        \"filename\": \"fig1_conversion_by_campaign.png\",\n",
    "        \"title\": \"Conversión por Campaña\",\n",
    "        \"logic\": \"Se agrupan los datos por nombre de campaña y se suman las conversiones (converted == True) para cada una.\",\n",
    "        \"interpretation\": \"Este gráfico muestra cuántos leads fueron convertidos por cada campaña. 'Selectividad_Meta' lidera en conversiones, indicando un buen rendimiento.\"\n",
    "    },\n",
    "    {\n",
    "        \"filename\": \"fig2_boxplot_amount.png\",\n",
    "        \"title\": \"Distribución de Monto Pagado por Campaña\",\n",
    "        \"logic\": \"Se utiliza un gráfico de caja (boxplot) para mostrar la distribución del campo 'amount_float' agrupado por campaña.\",\n",
    "        \"interpretation\": \"Se observan campañas con gran dispersión de montos pagados, como 'opos_meta' y 'Selectividad_googleads', lo cual podría reflejar estrategias de precios diversas.\"\n",
    "    },\n",
    "    {\n",
    "        \"filename\": \"fig3_anomalies.png\",\n",
    "        \"title\": \"Tipos de Anomalía por Campaña\",\n",
    "        \"logic\": \"Se filtran leads convertidos con anomalías (conversion_anomaly_type != 'NO_ANOMALY') y se cuenta por tipo y campaña.\",\n",
    "        \"interpretation\": \"Las anomalías más comunes están relacionadas con el tiempo negativo de conversión. Es importante investigarlas para mejorar los procesos.\"\n",
    "    },\n",
    "    {\n",
    "        \"filename\": \"fig4_source_conversion.png\",\n",
    "        \"title\": \"Tasa de Conversión por Fuente de Campaña\",\n",
    "        \"logic\": \"Para cada fuente (input_channel), se calcula la tasa: total convertidos / total leads * 100.\",\n",
    "        \"interpretation\": \"Las fuentes 'CAMPAIGN_002' y 'CAMPAIGN_004' presentan tasas más altas de conversión, lo cual sugiere mayor eficacia de esos canales.\"\n",
    "    },\n",
    "    {\n",
    "        \"filename\": \"fig5_campaign_rate.png\",\n",
    "        \"title\": \"Porcentaje de Conversión de Leads por Campaña\",\n",
    "        \"logic\": \"Se agrupa por campaña y se calcula la tasa: convertidos válidos / total de leads * 100.\",\n",
    "        \"interpretation\": \"'Selectividad_Meta' destaca por su alta tasa de conversión, seguida de 'opos_TikTok' y 'opos_meta'.\"\n",
    "    },\n",
    "    {\n",
    "        \"filename\": \"fig6_funnel.png\",\n",
    "        \"title\": \"Embudo de Conversión\",\n",
    "        \"logic\": \"Se compara el total de leads con el total de leads convertidos para representar el embudo de conversión.\",\n",
    "        \"interpretation\": \"De 728 leads, solo 41 se convirtieron, lo que representa una tasa de conversión general del 6%. Esto indica espacio para optimización del embudo.\"\n",
    "    }\n",
    "]\n",
    "\n",
    "# Add each chart with its text\n",
    "for chart in charts:\n",
    "    image_path = os.path.join(chart_dir, chart[\"filename\"])\n",
    "    add_chart_with_text(chart[\"title\"], image_path, chart[\"logic\"], chart[\"interpretation\"])\n",
    "\n",
    "# save the PDF\n",
    "pdf.output(pdf_output_path)\n",
    "print(f\"PDF sucessfuly created: {pdf_output_path}\")"
   ]
  }
 ],
 "metadata": {
  "kernelspec": {
   "display_name": "venv",
   "language": "python",
   "name": "python3"
  },
  "language_info": {
   "codemirror_mode": {
    "name": "ipython",
    "version": 3
   },
   "file_extension": ".py",
   "mimetype": "text/x-python",
   "name": "python",
   "nbconvert_exporter": "python",
   "pygments_lexer": "ipython3",
   "version": "3.13.5"
  }
 },
 "nbformat": 4,
 "nbformat_minor": 5
}
